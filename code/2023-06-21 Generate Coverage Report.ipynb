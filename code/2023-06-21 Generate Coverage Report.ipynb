{
 "cells": [
  {
   "cell_type": "code",
   "execution_count": 2,
   "metadata": {},
   "outputs": [],
   "source": [
    "import pandas as pd\n",
    "import os\n",
    "from tqdm import tqdm\n",
    "import requests\n",
    "from bs4 import BeautifulSoup\n",
    "import geopandas as gpd\n",
    "import contextily as ctx\n",
    "import matplotlib as mpl\n",
    "# from pandarallel import pandarallel"
   ]
  },
  {
   "cell_type": "code",
   "execution_count": null,
   "metadata": {},
   "outputs": [],
   "source": [
    "# # def get_county_report(county_fip):\n",
    "# county_address_dir = '../data/county_address'\n",
    "# for file in tqdm(os.listdir(county_address_dir)):\n",
    "#     test_county= os.path.join(county_address_dir, file)\n",
    "#     tdf = pd.read_csv(test_county)\n",
    "#     null_count = tdf[tdf['address'].isnull()].size\n",
    "#     if null_count > 0:\n",
    "#         print(file)"
   ]
  },
  {
   "cell_type": "markdown",
   "metadata": {},
   "source": [
    "# Generate Empty (Go through each county. If there is a file, join on geoid, if there is not, create empty columns)"
   ]
  },
  {
   "cell_type": "code",
   "execution_count": 2,
   "metadata": {},
   "outputs": [
    {
     "name": "stdout",
     "output_type": "stream",
     "text": [
      "3221\n"
     ]
    }
   ],
   "source": [
    "prefix = 'https://www2.census.gov/geo/tiger/TIGER2020PL/LAYER/TABBLOCK/2020/'\n",
    "r= requests.get(prefix)\n",
    "soup = BeautifulSoup(r.content)\n",
    "valid_zips = {}\n",
    "\n",
    "for a in soup.find_all('a', href=True):\n",
    "    if not '.zip' in a['href'] or len(a['href'])!= 28: # filter for the entire state ones\n",
    "        continue\n",
    "    valid_zips[a['href'].split('_')[2]] = prefix+a['href']\n",
    "print(len(valid_zips))"
   ]
  },
  {
   "cell_type": "markdown",
   "metadata": {},
   "source": [
    "# Plot Jefferson County (01073)"
   ]
  },
  {
   "cell_type": "code",
   "execution_count": null,
   "metadata": {},
   "outputs": [],
   "source": [
    "jc_df = pd.read_csv('../data/county_address/01073.csv.xz', dtype={'geoid20':object})\n",
    "county_df = gpd.read_file(valid_zips['01073'])"
   ]
  },
  {
   "cell_type": "code",
   "execution_count": null,
   "metadata": {},
   "outputs": [],
   "source": [
    "jc_df = jc_df.rename(columns={'geoid20': 'GEOID20'})\n",
    "jc_df"
   ]
  },
  {
   "cell_type": "code",
   "execution_count": null,
   "metadata": {},
   "outputs": [],
   "source": [
    "df = pd.merge(jc_df,county_df[['GEOID20']],on='GEOID20', how='right')\n",
    "df"
   ]
  },
  {
   "cell_type": "code",
   "execution_count": null,
   "metadata": {},
   "outputs": [],
   "source": [
    "df[df['address'].isnull()]"
   ]
  },
  {
   "cell_type": "code",
   "execution_count": null,
   "metadata": {},
   "outputs": [],
   "source": [
    "# county_df.crs= 4326\n",
    "# ax = county_df.plot(figsize=(10, 10), alpha=0.7, column='address_count', legend=True)\n",
    "# ctx.add_basemap(ax, zoom=10, crs=county_df.crs.to_string(), source=ctx.providers.Stamen.Toner)"
   ]
  },
  {
   "cell_type": "code",
   "execution_count": 24,
   "metadata": {},
   "outputs": [
    {
     "name": "stderr",
     "output_type": "stream",
     "text": [
      "100%|██████████| 3221/3221 [28:24<00:00,  1.89it/s]  \n"
     ]
    }
   ],
   "source": [
    "for county in tqdm(valid_zips):\n",
    "    if os.path.isfile('../data/address/%s.csv.xz' % county):\n",
    "        # skip if file already exists\n",
    "        continue\n",
    "        \n",
    "    county_shape_df = gpd.read_file(valid_zips[county])    \n",
    "    if os.path.isfile('../data/county_address/%s.csv.xz' % county):\n",
    "        cdf = pd.read_csv('../data/county_address/%s.csv.xz' % county, dtype={'geoid20':object})\n",
    "        cdf = cdf.rename(columns={'geoid20': 'GEOID20'})\n",
    "        mdf = pd.merge(cdf,county_shape_df[['GEOID20']],on='GEOID20', how='right') # create empty rows based on authority shape fiels\n",
    "    else:\n",
    "        mdf = county_shape_df[['GEOID20']]\n",
    "        mdf = mdf.reindex(columns= ['address', 'GEOID20', 'longitude', 'latitude'])\n",
    "        assert mdf.size > 16\n",
    "    mdf.to_csv('../data/address/%s.csv.xz' % county, index =False)"
   ]
  },
  {
   "cell_type": "markdown",
   "metadata": {},
   "source": [
    "# Generate Report"
   ]
  },
  {
   "cell_type": "code",
   "execution_count": 10,
   "metadata": {},
   "outputs": [
    {
     "name": "stderr",
     "output_type": "stream",
     "text": [
      "100%|██████████| 3221/3221 [32:54<00:00,  1.63it/s]  \n"
     ]
    }
   ],
   "source": [
    "# # Do some clean up\n",
    "# d = '../data/address'\n",
    "# for file in tqdm(os.listdir(d)):\n",
    "#     df = pd.read_csv(os.path.join(d,file))\n",
    "#     if not set(df.columns) == set(['address', 'GEOID20', 'longitude', 'latitude']):    \n",
    "#         df = df.reindex(columns= ['address', 'GEOID20', 'longitude', 'latitude'])\n",
    "#         df.to_csv(os.path.join(d,file), index =False)\n",
    "\n",
    "# #     print(df.columns)\n",
    "# #     null_count =  df[df['address'].isnull()].size\n",
    "# #     if null_count > 0:\n",
    "# #         print(file)"
   ]
  },
  {
   "cell_type": "code",
   "execution_count": 63,
   "metadata": {},
   "outputs": [
    {
     "name": "stderr",
     "output_type": "stream",
     "text": [
      "100%|██████████| 3221/3221 [01:59<00:00, 26.93it/s]\n"
     ]
    }
   ],
   "source": [
    "# Do some clean up\n",
    "d = '../data/address'\n",
    "for file in tqdm(os.listdir(d)):\n",
    "    df = pd.read_csv(os.path.join(d,file), dtype={'GEOID20': object})\n",
    "    assert set(df.columns) == set(['address', 'GEOID20', 'longitude', 'latitude'])\n",
    "    if df.size < 20:\n",
    "        print('%s: %s' % (file, df.size))\n",
    "        print(df)\n",
    "        os.remove(os.path.join(d,file)) \n",
    "#     df = df.reindex(columns= ['address', 'GEOID20', 'longitude', 'latitude'])\n",
    "#     df.to_csv(os.path.join(d,file), index =False)"
   ]
  },
  {
   "cell_type": "markdown",
   "metadata": {},
   "source": [
    "# Generate Report"
   ]
  },
  {
   "cell_type": "code",
   "execution_count": 19,
   "metadata": {},
   "outputs": [
    {
     "data": {
      "text/plain": [
       "15359"
      ]
     },
     "execution_count": 19,
     "metadata": {},
     "output_type": "execute_result"
    }
   ],
   "source": [
    "df['GEOID20'].unique().size"
   ]
  },
  {
   "cell_type": "code",
   "execution_count": 27,
   "metadata": {},
   "outputs": [
    {
     "data": {
      "text/html": [
       "<div>\n",
       "<style scoped>\n",
       "    .dataframe tbody tr th:only-of-type {\n",
       "        vertical-align: middle;\n",
       "    }\n",
       "\n",
       "    .dataframe tbody tr th {\n",
       "        vertical-align: top;\n",
       "    }\n",
       "\n",
       "    .dataframe thead th {\n",
       "        text-align: right;\n",
       "    }\n",
       "</style>\n",
       "<table border=\"1\" class=\"dataframe\">\n",
       "  <thead>\n",
       "    <tr style=\"text-align: right;\">\n",
       "      <th></th>\n",
       "      <th>address</th>\n",
       "      <th>GEOID20</th>\n",
       "      <th>longitude</th>\n",
       "      <th>latitude</th>\n",
       "    </tr>\n",
       "  </thead>\n",
       "  <tbody>\n",
       "    <tr>\n",
       "      <th>0</th>\n",
       "      <td>NaN</td>\n",
       "      <td>132839601001038</td>\n",
       "      <td>NaN</td>\n",
       "      <td>NaN</td>\n",
       "    </tr>\n",
       "    <tr>\n",
       "      <th>1</th>\n",
       "      <td>NaN</td>\n",
       "      <td>132839601001033</td>\n",
       "      <td>NaN</td>\n",
       "      <td>NaN</td>\n",
       "    </tr>\n",
       "    <tr>\n",
       "      <th>2</th>\n",
       "      <td>NaN</td>\n",
       "      <td>132839601002017</td>\n",
       "      <td>NaN</td>\n",
       "      <td>NaN</td>\n",
       "    </tr>\n",
       "    <tr>\n",
       "      <th>3</th>\n",
       "      <td>NaN</td>\n",
       "      <td>132839601002007</td>\n",
       "      <td>NaN</td>\n",
       "      <td>NaN</td>\n",
       "    </tr>\n",
       "    <tr>\n",
       "      <th>4</th>\n",
       "      <td>NaN</td>\n",
       "      <td>132839601002021</td>\n",
       "      <td>NaN</td>\n",
       "      <td>NaN</td>\n",
       "    </tr>\n",
       "    <tr>\n",
       "      <th>...</th>\n",
       "      <td>...</td>\n",
       "      <td>...</td>\n",
       "      <td>...</td>\n",
       "      <td>...</td>\n",
       "    </tr>\n",
       "    <tr>\n",
       "      <th>587</th>\n",
       "      <td>NaN</td>\n",
       "      <td>132839601001049</td>\n",
       "      <td>NaN</td>\n",
       "      <td>NaN</td>\n",
       "    </tr>\n",
       "    <tr>\n",
       "      <th>588</th>\n",
       "      <td>NaN</td>\n",
       "      <td>132839601001010</td>\n",
       "      <td>NaN</td>\n",
       "      <td>NaN</td>\n",
       "    </tr>\n",
       "    <tr>\n",
       "      <th>589</th>\n",
       "      <td>NaN</td>\n",
       "      <td>132839601001011</td>\n",
       "      <td>NaN</td>\n",
       "      <td>NaN</td>\n",
       "    </tr>\n",
       "    <tr>\n",
       "      <th>590</th>\n",
       "      <td>54 spring valley rd, adrian, ga, 31002</td>\n",
       "      <td>132839601001016</td>\n",
       "      <td>-82.560635</td>\n",
       "      <td>32.486963</td>\n",
       "    </tr>\n",
       "    <tr>\n",
       "      <th>591</th>\n",
       "      <td>8363 crooked run rd, adrian, ga, 31002</td>\n",
       "      <td>132839601001016</td>\n",
       "      <td>-82.556563</td>\n",
       "      <td>32.489759</td>\n",
       "    </tr>\n",
       "  </tbody>\n",
       "</table>\n",
       "<p>592 rows × 4 columns</p>\n",
       "</div>"
      ],
      "text/plain": [
       "                                    address          GEOID20  longitude  \\\n",
       "0                                       NaN  132839601001038        NaN   \n",
       "1                                       NaN  132839601001033        NaN   \n",
       "2                                       NaN  132839601002017        NaN   \n",
       "3                                       NaN  132839601002007        NaN   \n",
       "4                                       NaN  132839601002021        NaN   \n",
       "..                                      ...              ...        ...   \n",
       "587                                     NaN  132839601001049        NaN   \n",
       "588                                     NaN  132839601001010        NaN   \n",
       "589                                     NaN  132839601001011        NaN   \n",
       "590  54 spring valley rd, adrian, ga, 31002  132839601001016 -82.560635   \n",
       "591  8363 crooked run rd, adrian, ga, 31002  132839601001016 -82.556563   \n",
       "\n",
       "      latitude  \n",
       "0          NaN  \n",
       "1          NaN  \n",
       "2          NaN  \n",
       "3          NaN  \n",
       "4          NaN  \n",
       "..         ...  \n",
       "587        NaN  \n",
       "588        NaN  \n",
       "589        NaN  \n",
       "590  32.486963  \n",
       "591  32.489759  \n",
       "\n",
       "[592 rows x 4 columns]"
      ]
     },
     "execution_count": 27,
     "metadata": {},
     "output_type": "execute_result"
    }
   ],
   "source": [
    "df"
   ]
  },
  {
   "cell_type": "code",
   "execution_count": 40,
   "metadata": {},
   "outputs": [
    {
     "data": {
      "text/html": [
       "<div>\n",
       "<style scoped>\n",
       "    .dataframe tbody tr th:only-of-type {\n",
       "        vertical-align: middle;\n",
       "    }\n",
       "\n",
       "    .dataframe tbody tr th {\n",
       "        vertical-align: top;\n",
       "    }\n",
       "\n",
       "    .dataframe thead th {\n",
       "        text-align: right;\n",
       "    }\n",
       "</style>\n",
       "<table border=\"1\" class=\"dataframe\">\n",
       "  <thead>\n",
       "    <tr style=\"text-align: right;\">\n",
       "      <th></th>\n",
       "      <th>address</th>\n",
       "      <th>GEOID20</th>\n",
       "      <th>longitude</th>\n",
       "      <th>latitude</th>\n",
       "      <th>address_count</th>\n",
       "    </tr>\n",
       "  </thead>\n",
       "  <tbody>\n",
       "    <tr>\n",
       "      <th>0</th>\n",
       "      <td>NaN</td>\n",
       "      <td>132839601001038</td>\n",
       "      <td>NaN</td>\n",
       "      <td>NaN</td>\n",
       "      <td>0</td>\n",
       "    </tr>\n",
       "    <tr>\n",
       "      <th>1</th>\n",
       "      <td>NaN</td>\n",
       "      <td>132839601001033</td>\n",
       "      <td>NaN</td>\n",
       "      <td>NaN</td>\n",
       "      <td>0</td>\n",
       "    </tr>\n",
       "    <tr>\n",
       "      <th>2</th>\n",
       "      <td>NaN</td>\n",
       "      <td>132839601002017</td>\n",
       "      <td>NaN</td>\n",
       "      <td>NaN</td>\n",
       "      <td>0</td>\n",
       "    </tr>\n",
       "    <tr>\n",
       "      <th>3</th>\n",
       "      <td>NaN</td>\n",
       "      <td>132839601002007</td>\n",
       "      <td>NaN</td>\n",
       "      <td>NaN</td>\n",
       "      <td>0</td>\n",
       "    </tr>\n",
       "    <tr>\n",
       "      <th>4</th>\n",
       "      <td>NaN</td>\n",
       "      <td>132839601002021</td>\n",
       "      <td>NaN</td>\n",
       "      <td>NaN</td>\n",
       "      <td>0</td>\n",
       "    </tr>\n",
       "    <tr>\n",
       "      <th>...</th>\n",
       "      <td>...</td>\n",
       "      <td>...</td>\n",
       "      <td>...</td>\n",
       "      <td>...</td>\n",
       "      <td>...</td>\n",
       "    </tr>\n",
       "    <tr>\n",
       "      <th>587</th>\n",
       "      <td>NaN</td>\n",
       "      <td>132839601001049</td>\n",
       "      <td>NaN</td>\n",
       "      <td>NaN</td>\n",
       "      <td>0</td>\n",
       "    </tr>\n",
       "    <tr>\n",
       "      <th>588</th>\n",
       "      <td>NaN</td>\n",
       "      <td>132839601001010</td>\n",
       "      <td>NaN</td>\n",
       "      <td>NaN</td>\n",
       "      <td>0</td>\n",
       "    </tr>\n",
       "    <tr>\n",
       "      <th>589</th>\n",
       "      <td>NaN</td>\n",
       "      <td>132839601001011</td>\n",
       "      <td>NaN</td>\n",
       "      <td>NaN</td>\n",
       "      <td>0</td>\n",
       "    </tr>\n",
       "    <tr>\n",
       "      <th>590</th>\n",
       "      <td>54 spring valley rd, adrian, ga, 31002</td>\n",
       "      <td>132839601001016</td>\n",
       "      <td>-82.560635</td>\n",
       "      <td>32.486963</td>\n",
       "      <td>1</td>\n",
       "    </tr>\n",
       "    <tr>\n",
       "      <th>591</th>\n",
       "      <td>8363 crooked run rd, adrian, ga, 31002</td>\n",
       "      <td>132839601001016</td>\n",
       "      <td>-82.556563</td>\n",
       "      <td>32.489759</td>\n",
       "      <td>1</td>\n",
       "    </tr>\n",
       "  </tbody>\n",
       "</table>\n",
       "<p>592 rows × 5 columns</p>\n",
       "</div>"
      ],
      "text/plain": [
       "                                    address          GEOID20  longitude  \\\n",
       "0                                       NaN  132839601001038        NaN   \n",
       "1                                       NaN  132839601001033        NaN   \n",
       "2                                       NaN  132839601002017        NaN   \n",
       "3                                       NaN  132839601002007        NaN   \n",
       "4                                       NaN  132839601002021        NaN   \n",
       "..                                      ...              ...        ...   \n",
       "587                                     NaN  132839601001049        NaN   \n",
       "588                                     NaN  132839601001010        NaN   \n",
       "589                                     NaN  132839601001011        NaN   \n",
       "590  54 spring valley rd, adrian, ga, 31002  132839601001016 -82.560635   \n",
       "591  8363 crooked run rd, adrian, ga, 31002  132839601001016 -82.556563   \n",
       "\n",
       "      latitude  address_count  \n",
       "0          NaN              0  \n",
       "1          NaN              0  \n",
       "2          NaN              0  \n",
       "3          NaN              0  \n",
       "4          NaN              0  \n",
       "..         ...            ...  \n",
       "587        NaN              0  \n",
       "588        NaN              0  \n",
       "589        NaN              0  \n",
       "590  32.486963              1  \n",
       "591  32.489759              1  \n",
       "\n",
       "[592 rows x 5 columns]"
      ]
     },
     "execution_count": 40,
     "metadata": {},
     "output_type": "execute_result"
    }
   ],
   "source": [
    "df['address_count'] = df['address'].apply(lambda x: 0 if pd.isnull(x) else 1)\n",
    "df"
   ]
  },
  {
   "cell_type": "code",
   "execution_count": 47,
   "metadata": {},
   "outputs": [
    {
     "data": {
      "text/html": [
       "<div>\n",
       "<style scoped>\n",
       "    .dataframe tbody tr th:only-of-type {\n",
       "        vertical-align: middle;\n",
       "    }\n",
       "\n",
       "    .dataframe tbody tr th {\n",
       "        vertical-align: top;\n",
       "    }\n",
       "\n",
       "    .dataframe thead th {\n",
       "        text-align: right;\n",
       "    }\n",
       "</style>\n",
       "<table border=\"1\" class=\"dataframe\">\n",
       "  <thead>\n",
       "    <tr style=\"text-align: right;\">\n",
       "      <th></th>\n",
       "      <th>GEOID20</th>\n",
       "      <th>address_count</th>\n",
       "    </tr>\n",
       "  </thead>\n",
       "  <tbody>\n",
       "    <tr>\n",
       "      <th>0</th>\n",
       "      <td>132839601001000</td>\n",
       "      <td>0</td>\n",
       "    </tr>\n",
       "    <tr>\n",
       "      <th>1</th>\n",
       "      <td>132839601001001</td>\n",
       "      <td>1</td>\n",
       "    </tr>\n",
       "    <tr>\n",
       "      <th>2</th>\n",
       "      <td>132839601001002</td>\n",
       "      <td>0</td>\n",
       "    </tr>\n",
       "    <tr>\n",
       "      <th>3</th>\n",
       "      <td>132839601001003</td>\n",
       "      <td>1</td>\n",
       "    </tr>\n",
       "    <tr>\n",
       "      <th>4</th>\n",
       "      <td>132839601001004</td>\n",
       "      <td>0</td>\n",
       "    </tr>\n",
       "    <tr>\n",
       "      <th>...</th>\n",
       "      <td>...</td>\n",
       "      <td>...</td>\n",
       "    </tr>\n",
       "    <tr>\n",
       "      <th>543</th>\n",
       "      <td>132839602005104</td>\n",
       "      <td>1</td>\n",
       "    </tr>\n",
       "    <tr>\n",
       "      <th>544</th>\n",
       "      <td>132839602005105</td>\n",
       "      <td>0</td>\n",
       "    </tr>\n",
       "    <tr>\n",
       "      <th>545</th>\n",
       "      <td>132839602005106</td>\n",
       "      <td>0</td>\n",
       "    </tr>\n",
       "    <tr>\n",
       "      <th>546</th>\n",
       "      <td>132839602005107</td>\n",
       "      <td>0</td>\n",
       "    </tr>\n",
       "    <tr>\n",
       "      <th>547</th>\n",
       "      <td>132839602005108</td>\n",
       "      <td>0</td>\n",
       "    </tr>\n",
       "  </tbody>\n",
       "</table>\n",
       "<p>548 rows × 2 columns</p>\n",
       "</div>"
      ],
      "text/plain": [
       "             GEOID20  address_count\n",
       "0    132839601001000              0\n",
       "1    132839601001001              1\n",
       "2    132839601001002              0\n",
       "3    132839601001003              1\n",
       "4    132839601001004              0\n",
       "..               ...            ...\n",
       "543  132839602005104              1\n",
       "544  132839602005105              0\n",
       "545  132839602005106              0\n",
       "546  132839602005107              0\n",
       "547  132839602005108              0\n",
       "\n",
       "[548 rows x 2 columns]"
      ]
     },
     "execution_count": 47,
     "metadata": {},
     "output_type": "execute_result"
    }
   ],
   "source": [
    "tdf = df.groupby('GEOID20')['address_count'].sum().reset_index()\n",
    "tdf"
   ]
  },
  {
   "cell_type": "code",
   "execution_count": 48,
   "metadata": {},
   "outputs": [
    {
     "data": {
      "text/plain": [
       "0    463\n",
       "1     59\n",
       "2     13\n",
       "3      9\n",
       "4      3\n",
       "5      1\n",
       "Name: address_count, dtype: int64"
      ]
     },
     "execution_count": 48,
     "metadata": {},
     "output_type": "execute_result"
    }
   ],
   "source": [
    "tdf['address_count'].value_counts()"
   ]
  },
  {
   "cell_type": "code",
   "execution_count": 58,
   "metadata": {},
   "outputs": [
    {
     "data": {
      "text/plain": [
       "True"
      ]
     },
     "execution_count": 58,
     "metadata": {},
     "output_type": "execute_result"
    }
   ],
   "source": [
    "df['GEOID20'].unique().size == len(tdf)"
   ]
  },
  {
   "cell_type": "code",
   "execution_count": 88,
   "metadata": {},
   "outputs": [
    {
     "name": "stderr",
     "output_type": "stream",
     "text": [
      "100%|██████████| 3221/3221 [07:32<00:00,  7.12it/s] \n"
     ]
    }
   ],
   "source": [
    "# Make sure all fips codes are 15 characters long\n",
    "d = '../data/address'\n",
    "dfs= []\n",
    "\n",
    "for file in tqdm(os.listdir(d)):\n",
    "    df = pd.read_csv(os.path.join(d,file), dtype={'GEOID20': object})\n",
    "        \n",
    "    if all(df['GEOID20'].map(len)==15):\n",
    "        continue\n",
    "    \n",
    "    assert all(df['GEOID20'].map(len)==14) # slight fix, fill 0\n",
    "    df['GEOID20'] = df['GEOID20'].apply(lambda x: x.zfill(15))\n",
    "    assert all(df['GEOID20'].map(len)==15)\n",
    "    df.to_csv(os.path.join(d,file))"
   ]
  },
  {
   "cell_type": "markdown",
   "metadata": {},
   "source": [
    "# Generate Report"
   ]
  },
  {
   "cell_type": "code",
   "execution_count": 89,
   "metadata": {},
   "outputs": [
    {
     "name": "stderr",
     "output_type": "stream",
     "text": [
      "100%|██████████| 3221/3221 [02:58<00:00, 18.02it/s]\n"
     ]
    },
    {
     "data": {
      "text/html": [
       "<div>\n",
       "<style scoped>\n",
       "    .dataframe tbody tr th:only-of-type {\n",
       "        vertical-align: middle;\n",
       "    }\n",
       "\n",
       "    .dataframe tbody tr th {\n",
       "        vertical-align: top;\n",
       "    }\n",
       "\n",
       "    .dataframe thead th {\n",
       "        text-align: right;\n",
       "    }\n",
       "</style>\n",
       "<table border=\"1\" class=\"dataframe\">\n",
       "  <thead>\n",
       "    <tr style=\"text-align: right;\">\n",
       "      <th></th>\n",
       "      <th>GEOID20</th>\n",
       "      <th>address_count</th>\n",
       "    </tr>\n",
       "  </thead>\n",
       "  <tbody>\n",
       "    <tr>\n",
       "      <th>0</th>\n",
       "      <td>290854701001000</td>\n",
       "      <td>0</td>\n",
       "    </tr>\n",
       "    <tr>\n",
       "      <th>1</th>\n",
       "      <td>290854701001001</td>\n",
       "      <td>0</td>\n",
       "    </tr>\n",
       "    <tr>\n",
       "      <th>2</th>\n",
       "      <td>290854701001002</td>\n",
       "      <td>0</td>\n",
       "    </tr>\n",
       "    <tr>\n",
       "      <th>3</th>\n",
       "      <td>290854701001003</td>\n",
       "      <td>0</td>\n",
       "    </tr>\n",
       "    <tr>\n",
       "      <th>4</th>\n",
       "      <td>290854701001004</td>\n",
       "      <td>0</td>\n",
       "    </tr>\n",
       "    <tr>\n",
       "      <th>...</th>\n",
       "      <td>...</td>\n",
       "      <td>...</td>\n",
       "    </tr>\n",
       "    <tr>\n",
       "      <th>543</th>\n",
       "      <td>132839602005104</td>\n",
       "      <td>1</td>\n",
       "    </tr>\n",
       "    <tr>\n",
       "      <th>544</th>\n",
       "      <td>132839602005105</td>\n",
       "      <td>0</td>\n",
       "    </tr>\n",
       "    <tr>\n",
       "      <th>545</th>\n",
       "      <td>132839602005106</td>\n",
       "      <td>0</td>\n",
       "    </tr>\n",
       "    <tr>\n",
       "      <th>546</th>\n",
       "      <td>132839602005107</td>\n",
       "      <td>0</td>\n",
       "    </tr>\n",
       "    <tr>\n",
       "      <th>547</th>\n",
       "      <td>132839602005108</td>\n",
       "      <td>0</td>\n",
       "    </tr>\n",
       "  </tbody>\n",
       "</table>\n",
       "<p>8174038 rows × 2 columns</p>\n",
       "</div>"
      ],
      "text/plain": [
       "             GEOID20  address_count\n",
       "0    290854701001000              0\n",
       "1    290854701001001              0\n",
       "2    290854701001002              0\n",
       "3    290854701001003              0\n",
       "4    290854701001004              0\n",
       "..               ...            ...\n",
       "543  132839602005104              1\n",
       "544  132839602005105              0\n",
       "545  132839602005106              0\n",
       "546  132839602005107              0\n",
       "547  132839602005108              0\n",
       "\n",
       "[8174038 rows x 2 columns]"
      ]
     },
     "execution_count": 89,
     "metadata": {},
     "output_type": "execute_result"
    }
   ],
   "source": [
    "d = '../data/address'\n",
    "dfs= []\n",
    "\n",
    "for file in tqdm(os.listdir(d)):\n",
    "    df = pd.read_csv(os.path.join(d,file), dtype={'GEOID20': object})\n",
    "    \n",
    "    \n",
    "    assert all(df['GEOID20'].map(len)==15), print(file)\n",
    "    \n",
    "    df['address_count'] = df['address'].apply(lambda x: 0 if pd.isnull(x) else 1)\n",
    "    report = df.groupby('GEOID20')['address_count'].sum().reset_index()    \n",
    "    dfs.append(report)\n",
    "\n",
    "final_df = pd.concat(dfs)\n",
    "final_df"
   ]
  },
  {
   "cell_type": "code",
   "execution_count": 95,
   "metadata": {},
   "outputs": [
    {
     "data": {
      "text/html": [
       "<div>\n",
       "<style scoped>\n",
       "    .dataframe tbody tr th:only-of-type {\n",
       "        vertical-align: middle;\n",
       "    }\n",
       "\n",
       "    .dataframe tbody tr th {\n",
       "        vertical-align: top;\n",
       "    }\n",
       "\n",
       "    .dataframe thead th {\n",
       "        text-align: right;\n",
       "    }\n",
       "</style>\n",
       "<table border=\"1\" class=\"dataframe\">\n",
       "  <thead>\n",
       "    <tr style=\"text-align: right;\">\n",
       "      <th></th>\n",
       "      <th>GEOID20</th>\n",
       "      <th>address_count</th>\n",
       "    </tr>\n",
       "  </thead>\n",
       "  <tbody>\n",
       "    <tr>\n",
       "      <th>0</th>\n",
       "      <td>010010201001000</td>\n",
       "      <td>8</td>\n",
       "    </tr>\n",
       "    <tr>\n",
       "      <th>1</th>\n",
       "      <td>010010201001001</td>\n",
       "      <td>10</td>\n",
       "    </tr>\n",
       "    <tr>\n",
       "      <th>2</th>\n",
       "      <td>010010201001002</td>\n",
       "      <td>14</td>\n",
       "    </tr>\n",
       "    <tr>\n",
       "      <th>3</th>\n",
       "      <td>010010201001003</td>\n",
       "      <td>0</td>\n",
       "    </tr>\n",
       "    <tr>\n",
       "      <th>4</th>\n",
       "      <td>010010201001004</td>\n",
       "      <td>0</td>\n",
       "    </tr>\n",
       "    <tr>\n",
       "      <th>...</th>\n",
       "      <td>...</td>\n",
       "      <td>...</td>\n",
       "    </tr>\n",
       "    <tr>\n",
       "      <th>592</th>\n",
       "      <td>721537506022011</td>\n",
       "      <td>0</td>\n",
       "    </tr>\n",
       "    <tr>\n",
       "      <th>593</th>\n",
       "      <td>721537506022012</td>\n",
       "      <td>0</td>\n",
       "    </tr>\n",
       "    <tr>\n",
       "      <th>594</th>\n",
       "      <td>721537506022013</td>\n",
       "      <td>0</td>\n",
       "    </tr>\n",
       "    <tr>\n",
       "      <th>595</th>\n",
       "      <td>721537506022014</td>\n",
       "      <td>0</td>\n",
       "    </tr>\n",
       "    <tr>\n",
       "      <th>596</th>\n",
       "      <td>721537506022015</td>\n",
       "      <td>0</td>\n",
       "    </tr>\n",
       "  </tbody>\n",
       "</table>\n",
       "<p>8174038 rows × 2 columns</p>\n",
       "</div>"
      ],
      "text/plain": [
       "             GEOID20  address_count\n",
       "0    010010201001000              8\n",
       "1    010010201001001             10\n",
       "2    010010201001002             14\n",
       "3    010010201001003              0\n",
       "4    010010201001004              0\n",
       "..               ...            ...\n",
       "592  721537506022011              0\n",
       "593  721537506022012              0\n",
       "594  721537506022013              0\n",
       "595  721537506022014              0\n",
       "596  721537506022015              0\n",
       "\n",
       "[8174038 rows x 2 columns]"
      ]
     },
     "execution_count": 95,
     "metadata": {},
     "output_type": "execute_result"
    }
   ],
   "source": [
    "final_df = final_df.sort_values(by=['GEOID20', 'address_count'])\n",
    "final_df"
   ]
  },
  {
   "cell_type": "code",
   "execution_count": 92,
   "metadata": {},
   "outputs": [
    {
     "data": {
      "text/html": [
       "<div>\n",
       "<style scoped>\n",
       "    .dataframe tbody tr th:only-of-type {\n",
       "        vertical-align: middle;\n",
       "    }\n",
       "\n",
       "    .dataframe tbody tr th {\n",
       "        vertical-align: top;\n",
       "    }\n",
       "\n",
       "    .dataframe thead th {\n",
       "        text-align: right;\n",
       "    }\n",
       "</style>\n",
       "<table border=\"1\" class=\"dataframe\">\n",
       "  <thead>\n",
       "    <tr style=\"text-align: right;\">\n",
       "      <th></th>\n",
       "      <th>GEOID20</th>\n",
       "      <th>address_count</th>\n",
       "    </tr>\n",
       "  </thead>\n",
       "  <tbody>\n",
       "  </tbody>\n",
       "</table>\n",
       "</div>"
      ],
      "text/plain": [
       "Empty DataFrame\n",
       "Columns: [GEOID20, address_count]\n",
       "Index: []"
      ]
     },
     "execution_count": 92,
     "metadata": {},
     "output_type": "execute_result"
    }
   ],
   "source": [
    "final_df[final_df['GEOID20'].map(len)==14]"
   ]
  },
  {
   "cell_type": "code",
   "execution_count": 93,
   "metadata": {},
   "outputs": [
    {
     "data": {
      "text/plain": [
       "15    8174038\n",
       "Name: GEOID20, dtype: int64"
      ]
     },
     "execution_count": 93,
     "metadata": {},
     "output_type": "execute_result"
    }
   ],
   "source": [
    "final_df['GEOID20'].map(len).value_counts()"
   ]
  },
  {
   "cell_type": "code",
   "execution_count": 96,
   "metadata": {},
   "outputs": [],
   "source": [
    "final_df.to_csv('../data/coverage_report.csv', index=False)"
   ]
  }
 ],
 "metadata": {
  "kernelspec": {
   "display_name": "NAD venv",
   "language": "python",
   "name": ".nad_venv"
  },
  "language_info": {
   "codemirror_mode": {
    "name": "ipython",
    "version": 3
   },
   "file_extension": ".py",
   "mimetype": "text/x-python",
   "name": "python",
   "nbconvert_exporter": "python",
   "pygments_lexer": "ipython3",
   "version": "3.10.11"
  }
 },
 "nbformat": 4,
 "nbformat_minor": 4
}
