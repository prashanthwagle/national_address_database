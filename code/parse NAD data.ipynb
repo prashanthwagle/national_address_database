{
 "cells": [
  {
   "cell_type": "code",
   "execution_count": 1,
   "metadata": {},
   "outputs": [],
   "source": [
    "import pandas as pd\n",
    "import io\n",
    "from tqdm import tqdm\n",
    "from time import sleep\n",
    "import numpy as np\n",
    "import requests\n",
    "import math\n",
    "import json\n",
    "import linecache\n",
    "import os"
   ]
  },
  {
   "cell_type": "code",
   "execution_count": 2,
   "metadata": {},
   "outputs": [],
   "source": [
    "filepath = '../data/NAD_r11.txt' # too large to push onto Git, but is part of the download from here: https://nationaladdressdata.s3.amazonaws.com/NAD_r12_TXT.zip"
   ]
  },
  {
   "cell_type": "code",
   "execution_count": 3,
   "metadata": {},
   "outputs": [
    {
     "name": "stdout",
     "output_type": "stream",
     "text": [
      "OID,State,County,Inc_Muni,Uninc_Comm,Nbrhd_Comm,Post_Comm,Zip_Code,Plus_4,Bulk_Zip,Bulk_Plus4,StN_PreMod,StN_PreDir,StN_PreTyp,StN_PreSep,StreetName,StN_PosTyp,StN_PosDir,StN_PosMod,AddNum_Pre,Add_Number,AddNum_Suf,LandmkPart,LandmkName,Building,Floor,Unit,Room,Addtl_Loc,Milepost,Longitude,Latitude,NatGrid_Coord,GUID,Addr_Type,Placement,Source,AddAuth,UniqWithin,LastUpdate,Effective,Expired\n",
      "\n"
     ]
    }
   ],
   "source": [
    "first_line = None\n",
    "\n",
    "with open(filepath) as f:\n",
    "    first_line = f.readline()\n",
    "\n",
    "print(first_line)"
   ]
  },
  {
   "cell_type": "code",
   "execution_count": 4,
   "metadata": {},
   "outputs": [],
   "source": [
    "import warnings\n",
    "warnings.filterwarnings('ignore')"
   ]
  },
  {
   "cell_type": "markdown",
   "metadata": {},
   "source": [
    "# Load cleaning function"
   ]
  },
  {
   "cell_type": "code",
   "execution_count": 5,
   "metadata": {},
   "outputs": [],
   "source": [
    "def clean_df(dc):\n",
    "    def check_int(val):\n",
    "        num = None\n",
    "        try:\n",
    "            num = str(int(float(val)))\n",
    "        except Exception as e: print(e)\n",
    "        return num\n",
    "\n",
    "    dc = dc.replace('nan', '')\n",
    "    dc = dc.fillna('')   \n",
    "    dc = dc[dc['Zip_Code'] != 'nan']\n",
    "    dc = dc[dc['Zip_Code'] != '']\n",
    "    dc = dc.apply(lambda x: x.astype(str).str.lower()) # convert everything lower case\n",
    "\n",
    "    # cleaning zip code\n",
    "    dc['Zip_Code'] = dc['Zip_Code'].apply(lambda x: check_int(x))\n",
    "\n",
    "    # removing invalid zip rows\n",
    "    dc = dc[dc['Zip_Code'].notnull()]\n",
    "    return dc"
   ]
  },
  {
   "cell_type": "code",
   "execution_count": 6,
   "metadata": {},
   "outputs": [],
   "source": [
    "def translate_lines(first_line, lines, ids):    \n",
    "    # Given csv lines for a data frame, save it to a given name given state and county\n",
    "    df = pd.read_csv(io.StringIO(first_line + lines), low_memory=False)\n",
    "    df = df[['State', 'County', 'Zip_Code', 'Post_Comm', 'Add_Number', 'StN_PreMod', 'StN_PreDir', 'StN_PreTyp', 'StN_PreSep', 'StreetName', 'StN_PosTyp', 'StN_PosDir', 'StN_PosMod', 'Longitude', 'Latitude']]\n",
    "    df = df.astype(str)   \n",
    "\n",
    "    df = clean_df(df)\n",
    "\n",
    "    # constructing address\n",
    "    df['Prefix'] = df['Add_Number'] + ' ' + df['StN_PreMod'] + ' '+ df['StN_PreDir'] + ' '+ df['StN_PreTyp'] + ' '+ df['StN_PreSep'] + ' '+ df['StreetName'] + ' '+ df['StN_PosTyp'] + ' '+ df['StN_PosDir'] + ' '+ df['StN_PosMod']\n",
    "    df['Suffix'] = ','+df['Post_Comm'] + ','+ df['State'] + ',' +df['Zip_Code']\n",
    "    df['Prefix'] = df['Prefix'].apply(lambda x: \" \".join(x.split()))\n",
    "    df['Suffix'] = df['Suffix'].apply(lambda x: \" \".join(x.split()))\n",
    "    df['Address'] = df['Prefix'] + df['Suffix']    \n",
    "\n",
    "    # rename the columns\n",
    "    df.rename(columns={\n",
    "        'State': 'state', \n",
    "        'County': 'county', \n",
    "        'Zip_Code': 'zip',\n",
    "        'Add_Number': 'add_number',\n",
    "        'StreetName': 'street_name',\n",
    "        'Longitude': 'longitude',\n",
    "        'Latitude': 'latitude',\n",
    "        'Address': 'address',\n",
    "    }, inplace=True)\n",
    "\n",
    "    # Remove unecessary columns\n",
    "    df = df[['state', 'county', 'zip', 'longitude', 'latitude', 'address']]\n",
    "    df['id'] = df['state'] + '_' + df['county']\n",
    "    df['id'] = df['id'].apply(lambda x: x.replace(' ', '_'))\n",
    "    ids|= set(df['id'].unique())\n",
    "    return df\n",
    "\n",
    "#     # Save to a compressed csv\n",
    "#     filename = '../data/%s_%s.csv.xz' % (state, county.replace(' ', '_'))\n",
    "#     # print('Saving to: ', filename)\n",
    "#     df.to_csv(filename, index=False)\n",
    "#     sc[state] = '%s_%s.csv.xz' % (state, county)"
   ]
  },
  {
   "cell_type": "markdown",
   "metadata": {},
   "source": [
    "# Parse state county until a new one, then save the data frame and go next"
   ]
  },
  {
   "cell_type": "code",
   "execution_count": 7,
   "metadata": {
    "scrolled": true
   },
   "outputs": [
    {
     "name": "stderr",
     "output_type": "stream",
     "text": [
      "  5%|█▍                           | 3420686/67357690 [00:37<11:57, 89131.66it/s]"
     ]
    },
    {
     "name": "stdout",
     "output_type": "stream",
     "text": [
      "could not convert string to float: 'ia'\n"
     ]
    },
    {
     "name": "stderr",
     "output_type": "stream",
     "text": [
      "  6%|█▊                           | 4180838/67357690 [00:46<11:48, 89223.89it/s]"
     ]
    },
    {
     "name": "stdout",
     "output_type": "stream",
     "text": [
      "could not convert string to float: '5-156'\n"
     ]
    },
    {
     "name": "stderr",
     "output_type": "stream",
     "text": [
      " 17%|████▊                       | 11627327/67357690 [02:06<09:59, 92919.04it/s]"
     ]
    },
    {
     "name": "stdout",
     "output_type": "stream",
     "text": [
      "could not convert string to float: 'mo'\n",
      "could not convert string to float: 'mo'\n",
      "could not convert string to float: 'mo'\n",
      "could not convert string to float: 'mo'\n",
      "could not convert string to float: 'mo'\n"
     ]
    },
    {
     "name": "stderr",
     "output_type": "stream",
     "text": [
      " 28%|███████▉                    | 19013804/67357690 [03:28<08:13, 97892.32it/s]"
     ]
    },
    {
     "name": "stdout",
     "output_type": "stream",
     "text": [
      "could not convert string to float: '42718`'\n",
      "could not convert string to float: '9-971'\n"
     ]
    },
    {
     "name": "stderr",
     "output_type": "stream",
     "text": [
      " 28%|███████▉                    | 19089525/67357690 [03:29<08:26, 95331.14it/s]"
     ]
    },
    {
     "name": "stdout",
     "output_type": "stream",
     "text": [
      "could not convert string to float: 'alban'\n",
      "could not convert string to float: 'sburg'\n"
     ]
    },
    {
     "name": "stderr",
     "output_type": "stream",
     "text": [
      " 29%|███████▊                   | 19368875/67357690 [03:31<07:04, 113145.72it/s]"
     ]
    },
    {
     "name": "stdout",
     "output_type": "stream",
     "text": [
      "could not convert string to float: '42718`'\n"
     ]
    },
    {
     "name": "stderr",
     "output_type": "stream",
     "text": [
      " 30%|████████▌                   | 20509103/67357690 [03:44<08:27, 92249.38it/s]"
     ]
    },
    {
     "name": "stdout",
     "output_type": "stream",
     "text": [
      "could not convert string to float: 'md'\n"
     ]
    },
    {
     "name": "stderr",
     "output_type": "stream",
     "text": [
      " 32%|████████▉                   | 21479297/67357690 [03:54<08:08, 93876.83it/s]"
     ]
    },
    {
     "name": "stdout",
     "output_type": "stream",
     "text": [
      "could not convert string to float: 'rkpt'\n",
      "could not convert string to float: 'rkpt'\n",
      "could not convert string to float: 'rkpt'\n",
      "could not convert string to float: 'rkpt'\n",
      "could not convert string to float: 'rkpt'\n",
      "could not convert string to float: 'rkpt'\n",
      "could not convert string to float: 'rkpt'\n",
      "could not convert string to float: 'rkpt'\n",
      "could not convert string to float: 'rkpt'\n"
     ]
    },
    {
     "name": "stderr",
     "output_type": "stream",
     "text": [
      " 36%|█████████▉                  | 24024806/67357690 [04:19<07:56, 90942.80it/s]"
     ]
    },
    {
     "name": "stdout",
     "output_type": "stream",
     "text": [
      "could not convert string to float: 'lames'\n"
     ]
    },
    {
     "name": "stderr",
     "output_type": "stream",
     "text": [
      " 36%|█████████▋                 | 24304291/67357690 [04:22<06:48, 105463.92it/s]"
     ]
    },
    {
     "name": "stdout",
     "output_type": "stream",
     "text": [
      "could not convert string to float: 'texas'\n"
     ]
    },
    {
     "name": "stderr",
     "output_type": "stream",
     "text": [
      " 37%|██████████▍                 | 25220592/67357690 [04:32<07:02, 99841.56it/s]"
     ]
    },
    {
     "name": "stdout",
     "output_type": "stream",
     "text": [
      "could not convert string to float: 'tx'\n"
     ]
    },
    {
     "name": "stderr",
     "output_type": "stream",
     "text": [
      " 40%|██████████▊                | 26927059/67357690 [04:50<05:33, 121165.61it/s]"
     ]
    },
    {
     "name": "stdout",
     "output_type": "stream",
     "text": [
      "could not convert string to float: '766hh'\n",
      "could not convert string to float: '766hh'\n"
     ]
    },
    {
     "name": "stderr",
     "output_type": "stream",
     "text": [
      " 40%|███████████▎                | 27265454/67357690 [04:53<07:12, 92700.28it/s]"
     ]
    },
    {
     "name": "stdout",
     "output_type": "stream",
     "text": [
      "could not convert string to float: 'keene'\n",
      "could not convert string to float: 'keene'\n",
      "could not convert string to float: 'keene'\n",
      "could not convert string to float: 'keene'\n"
     ]
    },
    {
     "name": "stderr",
     "output_type": "stream",
     "text": [
      " 41%|██████████▉                | 27410483/67357690 [04:55<05:53, 113025.38it/s]"
     ]
    },
    {
     "name": "stdout",
     "output_type": "stream",
     "text": [
      "could not convert string to float: 'maban'\n",
      "could not convert string to float: 'kaufm'\n",
      "could not convert string to float: '<null'\n",
      "could not convert string to float: 'terre'\n",
      "could not convert string to float: 'maban'\n",
      "could not convert string to float: 'kemp'\n"
     ]
    },
    {
     "name": "stderr",
     "output_type": "stream",
     "text": [
      " 41%|███████████                | 27655532/67357690 [04:57<06:16, 105405.57it/s]"
     ]
    },
    {
     "name": "stdout",
     "output_type": "stream",
     "text": [
      "could not convert string to float: '78/60'\n",
      "could not convert string to float: '78/60'\n"
     ]
    },
    {
     "name": "stderr",
     "output_type": "stream",
     "text": [
      " 41%|███████████▏               | 27943380/67357690 [05:00<05:15, 124729.58it/s]"
     ]
    },
    {
     "name": "stdout",
     "output_type": "stream",
     "text": [
      "could not convert string to float: 'tilde'\n"
     ]
    },
    {
     "name": "stderr",
     "output_type": "stream",
     "text": [
      " 42%|███████████▎               | 28067392/67357690 [05:01<06:27, 101497.11it/s]"
     ]
    },
    {
     "name": "stdout",
     "output_type": "stream",
     "text": [
      "could not convert string to float: 'sunse'\n",
      "could not convert string to float: 'nocon'\n"
     ]
    },
    {
     "name": "stderr",
     "output_type": "stream",
     "text": [
      " 42%|███████████▉                | 28590719/67357690 [05:06<06:29, 99623.65it/s]"
     ]
    },
    {
     "name": "stdout",
     "output_type": "stream",
     "text": [
      "could not convert string to float: 'azle'\n",
      "could not convert string to float: 'azle'\n",
      "could not convert string to float: 'azle'\n",
      "could not convert string to float: 'azle'\n",
      "could not convert string to float: 'azle'\n",
      "could not convert string to float: 'azle'\n",
      "could not convert string to float: 'azle'\n",
      "could not convert string to float: 'azle'\n",
      "could not convert string to float: 'azle'\n",
      "could not convert string to float: 'azle'\n",
      "could not convert string to float: 'azle'\n",
      "could not convert string to float: 'azle'\n",
      "could not convert string to float: 'azle'\n",
      "could not convert string to float: 'azle'\n",
      "could not convert string to float: 'azle'\n",
      "could not convert string to float: 'azle'\n",
      "could not convert string to float: 'azle'\n",
      "could not convert string to float: 'azle'\n",
      "could not convert string to float: 'azle'\n",
      "could not convert string to float: 'azle'\n",
      "could not convert string to float: 'azle'\n",
      "could not convert string to float: 'mills'\n",
      "could not convert string to float: 'azle'\n",
      "could not convert string to float: 'azle'\n",
      "could not convert string to float: 'whitt'\n",
      "could not convert string to float: 'aledo'\n",
      "could not convert string to float: 'aledo'\n",
      "could not convert string to float: 'aledo'\n"
     ]
    },
    {
     "name": "stderr",
     "output_type": "stream",
     "text": [
      " 43%|███████████▉                | 28670735/67357690 [05:07<06:48, 94661.80it/s]"
     ]
    },
    {
     "name": "stdout",
     "output_type": "stream",
     "text": [
      "could not convert string to float: 'tx'\n"
     ]
    },
    {
     "name": "stderr",
     "output_type": "stream",
     "text": [
      " 43%|███████████▋               | 29006647/67357690 [05:11<06:17, 101515.37it/s]"
     ]
    },
    {
     "name": "stdout",
     "output_type": "stream",
     "text": [
      "could not convert string to float: 'tx'\n"
     ]
    },
    {
     "name": "stderr",
     "output_type": "stream",
     "text": [
      " 45%|████████████▏              | 30396752/67357690 [05:23<05:52, 104776.03it/s]"
     ]
    },
    {
     "name": "stdout",
     "output_type": "stream",
     "text": [
      "could not convert string to float: 'gilme'\n"
     ]
    },
    {
     "name": "stderr",
     "output_type": "stream",
     "text": [
      " 45%|████████████▋               | 30467069/67357690 [05:24<06:13, 98756.75it/s]"
     ]
    },
    {
     "name": "stdout",
     "output_type": "stream",
     "text": [
      "could not convert string to float: 'edgew'\n"
     ]
    },
    {
     "name": "stderr",
     "output_type": "stream",
     "text": [
      " 46%|████████████▉               | 31101221/67357690 [05:31<06:34, 91916.30it/s]"
     ]
    },
    {
     "name": "stdout",
     "output_type": "stream",
     "text": [
      "could not convert string to float: 'wink'\n",
      "could not convert string to float: 'wink'\n",
      "could not convert string to float: 'wise'\n",
      "could not convert string to float: 'boyd'\n",
      "could not convert string to float: 'bridg'\n",
      "could not convert string to float: 'parad'\n"
     ]
    },
    {
     "name": "stderr",
     "output_type": "stream",
     "text": [
      " 46%|████████████▉               | 31141229/67357690 [05:31<06:26, 93610.59it/s]"
     ]
    },
    {
     "name": "stdout",
     "output_type": "stream",
     "text": [
      "could not convert string to float: 'parad'\n"
     ]
    },
    {
     "name": "stderr",
     "output_type": "stream",
     "text": [
      " 46%|████████████▉               | 31171235/67357690 [05:32<06:14, 96606.47it/s]"
     ]
    },
    {
     "name": "stdout",
     "output_type": "stream",
     "text": [
      "could not convert string to float: 'quitm'\n",
      "could not convert string to float: 'lovin'\n"
     ]
    },
    {
     "name": "stderr",
     "output_type": "stream",
     "text": [
      " 46%|████████████▌              | 31196506/67357690 [05:32<06:00, 100184.00it/s]"
     ]
    },
    {
     "name": "stdout",
     "output_type": "stream",
     "text": [
      "could not convert string to float: 'texas'\n"
     ]
    },
    {
     "name": "stderr",
     "output_type": "stream",
     "text": [
      " 68%|██████████████████▎        | 45569386/67357690 [08:16<03:36, 100707.57it/s]"
     ]
    },
    {
     "name": "stdout",
     "output_type": "stream",
     "text": [
      "could not convert string to float: '**!)!'\n"
     ]
    },
    {
     "name": "stderr",
     "output_type": "stream",
     "text": [
      " 68%|██████████████████▉         | 45619212/67357690 [08:16<03:56, 91921.30it/s]"
     ]
    },
    {
     "name": "stdout",
     "output_type": "stream",
     "text": [
      "could not convert string to float: 'dulce'\n"
     ]
    },
    {
     "name": "stderr",
     "output_type": "stream",
     "text": [
      " 68%|███████████████████▏        | 46124225/67357690 [08:22<03:44, 94708.92it/s]"
     ]
    },
    {
     "name": "stdout",
     "output_type": "stream",
     "text": [
      "could not convert string to float: 'c'\n"
     ]
    },
    {
     "name": "stderr",
     "output_type": "stream",
     "text": [
      " 69%|███████████████████▎        | 46359272/67357690 [08:24<03:46, 92557.13it/s]"
     ]
    },
    {
     "name": "stdout",
     "output_type": "stream",
     "text": [
      "could not convert string to float: 'c'\n",
      "could not convert string to float: 'nm'\n",
      "could not convert string to float: 'nm'\n",
      "could not convert string to float: 'nm'\n",
      "could not convert string to float: '87oo6'\n"
     ]
    },
    {
     "name": "stderr",
     "output_type": "stream",
     "text": [
      " 69%|███████████████████▎        | 46424285/67357690 [08:25<03:43, 93502.96it/s]"
     ]
    },
    {
     "name": "stdout",
     "output_type": "stream",
     "text": [
      "could not convert string to float: 'vabel'\n",
      "could not convert string to float: 'vabel'\n",
      "could not convert string to float: 'vabel'\n",
      "could not convert string to float: 'vabel'\n",
      "could not convert string to float: 'vabel'\n",
      "could not convert string to float: 'vabel'\n",
      "could not convert string to float: 'vabel'\n",
      "could not convert string to float: 'vabel'\n",
      "could not convert string to float: 'vabel'\n",
      "could not convert string to float: 'vabel'\n",
      "could not convert string to float: 'vabel'\n",
      "could not convert string to float: 'vabel'\n",
      "could not convert string to float: 'vabel'\n",
      "could not convert string to float: 'vabel'\n",
      "could not convert string to float: 'vabel'\n",
      "could not convert string to float: 'vabel'\n",
      "could not convert string to float: 'vabel'\n",
      "could not convert string to float: 'vabel'\n",
      "could not convert string to float: 'vabel'\n",
      "could not convert string to float: 'vabel'\n",
      "could not convert string to float: 'vabel'\n",
      "could not convert string to float: 'vabel'\n",
      "could not convert string to float: 'vabel'\n",
      "could not convert string to float: 'vabel'\n"
     ]
    },
    {
     "name": "stderr",
     "output_type": "stream",
     "text": [
      " 78%|█████████████████████▉      | 52845569/67357690 [09:38<02:37, 92043.34it/s]"
     ]
    },
    {
     "name": "stdout",
     "output_type": "stream",
     "text": [
      "could not convert string to float: 'rd'\n",
      "could not convert string to float: 'rd'\n",
      "could not convert string to float: 'maple'\n",
      "could not convert string to float: 'rd'\n",
      "could not convert string to float: 'y'\n",
      "could not convert string to float: 'y'\n",
      "could not convert string to float: 'tn'\n",
      "could not convert string to float: 'lake'\n"
     ]
    },
    {
     "name": "stderr",
     "output_type": "stream",
     "text": [
      " 79%|██████████████████████      | 52955591/67357690 [09:39<02:35, 92414.97it/s]"
     ]
    },
    {
     "name": "stdout",
     "output_type": "stream",
     "text": [
      "could not convert string to float: 'roger'\n"
     ]
    },
    {
     "name": "stderr",
     "output_type": "stream",
     "text": [
      " 79%|██████████████████████▏     | 53230646/67357690 [09:42<02:34, 91436.69it/s]"
     ]
    },
    {
     "name": "stdout",
     "output_type": "stream",
     "text": [
      "could not convert string to float: 'fire'\n",
      "could not convert string to float: '383/5'\n"
     ]
    },
    {
     "name": "stderr",
     "output_type": "stream",
     "text": [
      " 80%|██████████████████████▎     | 53775755/67357690 [09:48<02:29, 91151.31it/s]"
     ]
    },
    {
     "name": "stdout",
     "output_type": "stream",
     "text": [
      "could not convert string to float: 'churc'\n"
     ]
    },
    {
     "name": "stderr",
     "output_type": "stream",
     "text": [
      " 80%|██████████████████████▍     | 53945789/67357690 [09:50<02:27, 90971.61it/s]"
     ]
    },
    {
     "name": "stdout",
     "output_type": "stream",
     "text": [
      "could not convert string to float: 'tn'\n"
     ]
    },
    {
     "name": "stderr",
     "output_type": "stream",
     "text": [
      " 80%|██████████████████████▍     | 54015803/67357690 [09:50<02:24, 92463.46it/s]"
     ]
    },
    {
     "name": "stdout",
     "output_type": "stream",
     "text": [
      "could not convert string to float: 'tn'\n"
     ]
    },
    {
     "name": "stderr",
     "output_type": "stream",
     "text": [
      " 80%|██████████████████████▍     | 54105821/67357690 [09:51<02:23, 92444.75it/s]"
     ]
    },
    {
     "name": "stdout",
     "output_type": "stream",
     "text": [
      "could not convert string to float: '38-06'\n"
     ]
    },
    {
     "name": "stderr",
     "output_type": "stream",
     "text": [
      " 81%|██████████████████████▋     | 54725945/67357690 [09:58<02:19, 90540.91it/s]"
     ]
    },
    {
     "name": "stdout",
     "output_type": "stream",
     "text": [
      "could not convert string to float: '38-68'\n"
     ]
    },
    {
     "name": "stderr",
     "output_type": "stream",
     "text": [
      " 81%|██████████████████████▊     | 54775955/67357690 [09:59<02:19, 90432.96it/s]"
     ]
    },
    {
     "name": "stdout",
     "output_type": "stream",
     "text": [
      "could not convert string to float: 'tn'\n",
      "could not convert string to float: 'tn'\n",
      "could not convert string to float: 'tn'\n"
     ]
    },
    {
     "name": "stderr",
     "output_type": "stream",
     "text": [
      " 82%|██████████████████████▉     | 55086017/67357690 [10:02<02:14, 90995.13it/s]"
     ]
    },
    {
     "name": "stdout",
     "output_type": "stream",
     "text": [
      "could not convert string to float: '383 5'\n"
     ]
    },
    {
     "name": "stderr",
     "output_type": "stream",
     "text": [
      " 82%|██████████████████████▉     | 55166033/67357690 [10:03<02:14, 90526.40it/s]"
     ]
    },
    {
     "name": "stdout",
     "output_type": "stream",
     "text": [
      "could not convert string to float: '37-58'\n"
     ]
    },
    {
     "name": "stderr",
     "output_type": "stream",
     "text": [
      " 82%|███████████████████████     | 55386077/67357690 [10:06<02:12, 90445.04it/s]"
     ]
    },
    {
     "name": "stdout",
     "output_type": "stream",
     "text": [
      "could not convert string to float: 'none'\n",
      "could not convert string to float: 'none'\n",
      "could not convert string to float: 'none'\n",
      "could not convert string to float: 'none'\n",
      "could not convert string to float: 'none'\n",
      "could not convert string to float: 'none'\n",
      "could not convert string to float: 'none'\n",
      "could not convert string to float: 'none'\n",
      "could not convert string to float: 'none'\n",
      "could not convert string to float: 'none'\n"
     ]
    },
    {
     "name": "stderr",
     "output_type": "stream",
     "text": [
      " 82%|███████████████████████     | 55416083/67357690 [10:06<02:13, 89424.02it/s]"
     ]
    },
    {
     "name": "stdout",
     "output_type": "stream",
     "text": [
      "could not convert string to float: 'none'\n",
      "could not convert string to float: 'none'\n",
      "could not convert string to float: 'none'\n",
      "could not convert string to float: 'none'\n",
      "could not convert string to float: 'none'\n",
      "could not convert string to float: 'none'\n",
      "could not convert string to float: 'none'\n"
     ]
    },
    {
     "name": "stderr",
     "output_type": "stream",
     "text": [
      " 82%|███████████████████████     | 55436087/67357690 [10:06<02:12, 89705.82it/s]"
     ]
    },
    {
     "name": "stdout",
     "output_type": "stream",
     "text": [
      "could not convert string to float: 'none'\n",
      "could not convert string to float: 'none'\n"
     ]
    },
    {
     "name": "stderr",
     "output_type": "stream",
     "text": [
      " 83%|███████████████████████▏    | 55656131/67357690 [10:09<02:07, 91472.92it/s]"
     ]
    },
    {
     "name": "stdout",
     "output_type": "stream",
     "text": [
      "could not convert string to float: 'somme'\n"
     ]
    },
    {
     "name": "stderr",
     "output_type": "stream",
     "text": [
      " 83%|███████████████████████▏    | 55686137/67357690 [10:09<02:07, 91394.71it/s]"
     ]
    },
    {
     "name": "stdout",
     "output_type": "stream",
     "text": [
      "could not convert string to float: 'tn'\n"
     ]
    },
    {
     "name": "stderr",
     "output_type": "stream",
     "text": [
      " 83%|███████████████████████▏    | 55711142/67357690 [10:09<02:01, 96135.20it/s]"
     ]
    },
    {
     "name": "stdout",
     "output_type": "stream",
     "text": [
      "could not convert string to float: '-'\n",
      "could not convert string to float: '-'\n",
      "could not convert string to float: 'rd'\n",
      "could not convert string to float: 'st'\n"
     ]
    },
    {
     "name": "stderr",
     "output_type": "stream",
     "text": [
      " 83%|███████████████████████▏    | 55741148/67357690 [10:09<02:05, 92613.98it/s]"
     ]
    },
    {
     "name": "stdout",
     "output_type": "stream",
     "text": [
      "could not convert string to float: 'lobel'\n"
     ]
    },
    {
     "name": "stderr",
     "output_type": "stream",
     "text": [
      " 83%|███████████████████████▏    | 55786157/67357690 [10:10<01:58, 97296.79it/s]"
     ]
    },
    {
     "name": "stdout",
     "output_type": "stream",
     "text": [
      "could not convert string to float: 'q'\n"
     ]
    },
    {
     "name": "stderr",
     "output_type": "stream",
     "text": [
      " 83%|███████████████████████▏    | 55886177/67357690 [10:11<02:06, 90514.69it/s]"
     ]
    },
    {
     "name": "stdout",
     "output_type": "stream",
     "text": [
      "could not convert string to float: 'kings'\n",
      "could not convert string to float: 'zip'\n"
     ]
    },
    {
     "name": "stderr",
     "output_type": "stream",
     "text": [
      " 83%|███████████████████████▎    | 55936187/67357690 [10:12<02:06, 90496.32it/s]"
     ]
    },
    {
     "name": "stdout",
     "output_type": "stream",
     "text": [
      "could not convert string to float: '37/82'\n",
      "could not convert string to float: '378/2'\n"
     ]
    },
    {
     "name": "stderr",
     "output_type": "stream",
     "text": [
      " 83%|███████████████████████▎    | 56086217/67357690 [10:13<02:02, 91869.38it/s]"
     ]
    },
    {
     "name": "stdout",
     "output_type": "stream",
     "text": [
      "could not convert string to float: '385o6'\n"
     ]
    },
    {
     "name": "stderr",
     "output_type": "stream",
     "text": [
      " 83%|███████████████████████▎    | 56156231/67357690 [10:14<02:01, 92438.24it/s]"
     ]
    },
    {
     "name": "stdout",
     "output_type": "stream",
     "text": [
      "could not convert string to float: 'tn'\n",
      "could not convert string to float: '373o3'\n",
      "could not convert string to float: 'tn'\n",
      "could not convert string to float: 'tn'\n",
      "could not convert string to float: 'tn'\n"
     ]
    },
    {
     "name": "stderr",
     "output_type": "stream",
     "text": [
      " 84%|███████████████████████▍    | 56326265/67357690 [10:16<02:00, 91788.11it/s]"
     ]
    },
    {
     "name": "stdout",
     "output_type": "stream",
     "text": [
      "could not convert string to float: 'claib'\n",
      "could not convert string to float: 'villa'\n"
     ]
    },
    {
     "name": "stderr",
     "output_type": "stream",
     "text": [
      " 84%|███████████████████████▍    | 56426285/67357690 [10:17<02:01, 90046.44it/s]"
     ]
    },
    {
     "name": "stdout",
     "output_type": "stream",
     "text": [
      "could not convert string to float: 'new t'\n"
     ]
    },
    {
     "name": "stderr",
     "output_type": "stream",
     "text": [
      " 98%|███████████████████████████▍| 65888177/67357690 [12:00<00:14, 98875.01it/s]"
     ]
    },
    {
     "name": "stdout",
     "output_type": "stream",
     "text": [
      "could not convert string to float: 'acme'\n",
      "could not convert string to float: 'acme'\n",
      "could not convert string to float: 'acme'\n",
      "could not convert string to float: 'acme'\n"
     ]
    },
    {
     "name": "stderr",
     "output_type": "stream",
     "text": [
      "100%|███████████████████████████▉| 67088417/67357690 [12:12<00:02, 92483.46it/s]"
     ]
    },
    {
     "name": "stdout",
     "output_type": "stream",
     "text": [
      "could not convert string to float: 'out'\n",
      "could not convert string to float: 'out'\n"
     ]
    },
    {
     "name": "stderr",
     "output_type": "stream",
     "text": [
      "100%|███████████████████████████▉| 67357689/67357690 [12:15<00:00, 91610.99it/s]\n"
     ]
    }
   ],
   "source": [
    "dfs = []\n",
    "ids = set()\n",
    "steps = 5000\n",
    "total_lines = 67357690\n",
    "with tqdm(total=int(total_lines)) as pbar:\n",
    "    with open(filepath) as f:\n",
    "        first_line = f.readline() # skip first line\n",
    "        i = 0\n",
    "        lines = ''\n",
    "        for line in f:\n",
    "            # pbar.set_description('df length: %s' % len(dfs))\n",
    "            pbar.update(1)\n",
    "            lines += line\n",
    "            \n",
    "            if i > steps:\n",
    "                df = translate_lines(first_line, lines, ids)\n",
    "                dfs.append(df)\n",
    "                i =0\n",
    "                lines = ''\n",
    "            i += 1\n",
    "pbar.close()      \n",
    "# Capture the leftovers\n",
    "remain_df = pd.read_csv(io.StringIO(first_line + lines), low_memory=False)\n",
    "dfs.append(remain_df)"
   ]
  },
  {
   "cell_type": "code",
   "execution_count": 8,
   "metadata": {},
   "outputs": [
    {
     "name": "stdout",
     "output_type": "stream",
     "text": [
      "13469\n"
     ]
    }
   ],
   "source": [
    "print(len(dfs))"
   ]
  },
  {
   "cell_type": "code",
   "execution_count": 9,
   "metadata": {},
   "outputs": [
    {
     "data": {
      "text/html": [
       "<div>\n",
       "<style scoped>\n",
       "    .dataframe tbody tr th:only-of-type {\n",
       "        vertical-align: middle;\n",
       "    }\n",
       "\n",
       "    .dataframe tbody tr th {\n",
       "        vertical-align: top;\n",
       "    }\n",
       "\n",
       "    .dataframe thead th {\n",
       "        text-align: right;\n",
       "    }\n",
       "</style>\n",
       "<table border=\"1\" class=\"dataframe\">\n",
       "  <thead>\n",
       "    <tr style=\"text-align: right;\">\n",
       "      <th></th>\n",
       "      <th>state</th>\n",
       "      <th>county</th>\n",
       "      <th>zip</th>\n",
       "      <th>longitude</th>\n",
       "      <th>latitude</th>\n",
       "      <th>address</th>\n",
       "      <th>id</th>\n",
       "    </tr>\n",
       "  </thead>\n",
       "  <tbody>\n",
       "    <tr>\n",
       "      <th>0</th>\n",
       "      <td>az</td>\n",
       "      <td>coconino</td>\n",
       "      <td>86336</td>\n",
       "      <td>-111.771770637</td>\n",
       "      <td>34.8280627940001</td>\n",
       "      <td>95 lynx drive,sedona,az,86336</td>\n",
       "      <td>az_coconino</td>\n",
       "    </tr>\n",
       "    <tr>\n",
       "      <th>1</th>\n",
       "      <td>az</td>\n",
       "      <td>coconino</td>\n",
       "      <td>86336</td>\n",
       "      <td>-111.769395183</td>\n",
       "      <td>34.828455976</td>\n",
       "      <td>33 eagle lane,sedona,az,86336</td>\n",
       "      <td>az_coconino</td>\n",
       "    </tr>\n",
       "    <tr>\n",
       "      <th>2</th>\n",
       "      <td>az</td>\n",
       "      <td>coconino</td>\n",
       "      <td>86336</td>\n",
       "      <td>-111.777281707</td>\n",
       "      <td>34.828623958</td>\n",
       "      <td>141 vista bonita drive,sedona,az,86336</td>\n",
       "      <td>az_coconino</td>\n",
       "    </tr>\n",
       "    <tr>\n",
       "      <th>3</th>\n",
       "      <td>az</td>\n",
       "      <td>coconino</td>\n",
       "      <td>86336</td>\n",
       "      <td>-111.775765885</td>\n",
       "      <td>34.8291778600001</td>\n",
       "      <td>109 badger drive,sedona,az,86336</td>\n",
       "      <td>az_coconino</td>\n",
       "    </tr>\n",
       "    <tr>\n",
       "      <th>4</th>\n",
       "      <td>az</td>\n",
       "      <td>coconino</td>\n",
       "      <td>86336</td>\n",
       "      <td>-111.773383133</td>\n",
       "      <td>34.824991696</td>\n",
       "      <td>30 fawn spur,sedona,az,86336</td>\n",
       "      <td>az_coconino</td>\n",
       "    </tr>\n",
       "    <tr>\n",
       "      <th>...</th>\n",
       "      <td>...</td>\n",
       "      <td>...</td>\n",
       "      <td>...</td>\n",
       "      <td>...</td>\n",
       "      <td>...</td>\n",
       "      <td>...</td>\n",
       "      <td>...</td>\n",
       "    </tr>\n",
       "    <tr>\n",
       "      <th>4997</th>\n",
       "      <td>az</td>\n",
       "      <td>gila</td>\n",
       "      <td>85541</td>\n",
       "      <td>-111.303339925</td>\n",
       "      <td>34.3157243200001</td>\n",
       "      <td>297 west patriot drive,payson,az,85541</td>\n",
       "      <td>az_gila</td>\n",
       "    </tr>\n",
       "    <tr>\n",
       "      <th>4998</th>\n",
       "      <td>az</td>\n",
       "      <td>gila</td>\n",
       "      <td>85541</td>\n",
       "      <td>-111.302823657</td>\n",
       "      <td>34.3163382070001</td>\n",
       "      <td>282 west patriot drive,payson,az,85541</td>\n",
       "      <td>az_gila</td>\n",
       "    </tr>\n",
       "    <tr>\n",
       "      <th>4999</th>\n",
       "      <td>az</td>\n",
       "      <td>gila</td>\n",
       "      <td>85541</td>\n",
       "      <td>-111.218377852</td>\n",
       "      <td>34.2650574410001</td>\n",
       "      <td>139 north pinon road,star valley,az,85541</td>\n",
       "      <td>az_gila</td>\n",
       "    </tr>\n",
       "    <tr>\n",
       "      <th>5000</th>\n",
       "      <td>az</td>\n",
       "      <td>gila</td>\n",
       "      <td>85554</td>\n",
       "      <td>-110.98229521</td>\n",
       "      <td>34.107269951</td>\n",
       "      <td>311 north seeley road,young,az,85554</td>\n",
       "      <td>az_gila</td>\n",
       "    </tr>\n",
       "    <tr>\n",
       "      <th>5001</th>\n",
       "      <td>az</td>\n",
       "      <td>gila</td>\n",
       "      <td>85554</td>\n",
       "      <td>-110.928528741</td>\n",
       "      <td>34.143848259</td>\n",
       "      <td>405 south homestead road,young,az,85554</td>\n",
       "      <td>az_gila</td>\n",
       "    </tr>\n",
       "  </tbody>\n",
       "</table>\n",
       "<p>5002 rows × 7 columns</p>\n",
       "</div>"
      ],
      "text/plain": [
       "     state    county    zip       longitude          latitude  \\\n",
       "0       az  coconino  86336  -111.771770637  34.8280627940001   \n",
       "1       az  coconino  86336  -111.769395183      34.828455976   \n",
       "2       az  coconino  86336  -111.777281707      34.828623958   \n",
       "3       az  coconino  86336  -111.775765885  34.8291778600001   \n",
       "4       az  coconino  86336  -111.773383133      34.824991696   \n",
       "...    ...       ...    ...             ...               ...   \n",
       "4997    az      gila  85541  -111.303339925  34.3157243200001   \n",
       "4998    az      gila  85541  -111.302823657  34.3163382070001   \n",
       "4999    az      gila  85541  -111.218377852  34.2650574410001   \n",
       "5000    az      gila  85554   -110.98229521      34.107269951   \n",
       "5001    az      gila  85554  -110.928528741      34.143848259   \n",
       "\n",
       "                                        address           id  \n",
       "0                 95 lynx drive,sedona,az,86336  az_coconino  \n",
       "1                 33 eagle lane,sedona,az,86336  az_coconino  \n",
       "2        141 vista bonita drive,sedona,az,86336  az_coconino  \n",
       "3              109 badger drive,sedona,az,86336  az_coconino  \n",
       "4                  30 fawn spur,sedona,az,86336  az_coconino  \n",
       "...                                         ...          ...  \n",
       "4997     297 west patriot drive,payson,az,85541      az_gila  \n",
       "4998     282 west patriot drive,payson,az,85541      az_gila  \n",
       "4999  139 north pinon road,star valley,az,85541      az_gila  \n",
       "5000       311 north seeley road,young,az,85554      az_gila  \n",
       "5001    405 south homestead road,young,az,85554      az_gila  \n",
       "\n",
       "[5002 rows x 7 columns]"
      ]
     },
     "execution_count": 9,
     "metadata": {},
     "output_type": "execute_result"
    }
   ],
   "source": [
    "dfs[0]"
   ]
  },
  {
   "cell_type": "code",
   "execution_count": 15,
   "metadata": {},
   "outputs": [
    {
     "data": {
      "text/plain": [
       "Index(['state', 'county', 'zip', 'longitude', 'latitude', 'address', 'id'], dtype='object')"
      ]
     },
     "execution_count": 15,
     "metadata": {},
     "output_type": "execute_result"
    }
   ],
   "source": [
    "dfs[0].columns"
   ]
  },
  {
   "cell_type": "code",
   "execution_count": 16,
   "metadata": {},
   "outputs": [
    {
     "name": "stderr",
     "output_type": "stream",
     "text": [
      "Saving tn_putnam: 100%|███████████████████| 1585/1585 [3:28:19<00:00,  7.89s/it]\n"
     ]
    }
   ],
   "source": [
    "pbar = tqdm(ids)\n",
    "\n",
    "for uid in pbar:\n",
    "    udf = []\n",
    "    for df in dfs:\n",
    "        if not 'id' in df.columns:\n",
    "            continue \n",
    "        # assuming 'id' in the data frame\n",
    "        cut = df[df['id'] == uid]\n",
    "        if not cut.empty:\n",
    "            udf.append(cut)\n",
    "\n",
    "    pbar.set_description('Parsing %s' % uid)\n",
    "    if len(udf) > 0:\n",
    "        pbar.set_description('Saving %s' % uid)        \n",
    "        udf = pd.concat(udf)\n",
    "        udf.to_csv('../data/%s.csv.xz' % uid, index=False)"
   ]
  },
  {
   "cell_type": "code",
   "execution_count": 13,
   "metadata": {},
   "outputs": [],
   "source": [
    "# check that there are no spaces in the identifier\n",
    "for uid in ids:\n",
    "    if ' ' in uid:\n",
    "        print(uid)"
   ]
  },
  {
   "cell_type": "code",
   "execution_count": 27,
   "metadata": {},
   "outputs": [
    {
     "data": {
      "text/plain": [
       "1585"
      ]
     },
     "execution_count": 27,
     "metadata": {},
     "output_type": "execute_result"
    }
   ],
   "source": [
    "len(ids)"
   ]
  },
  {
   "cell_type": "code",
   "execution_count": 2,
   "metadata": {},
   "outputs": [
    {
     "data": {
      "text/plain": [
       "['ar_saline',\n",
       " 'nd_hettinger',\n",
       " 'ma_essex',\n",
       " 'wi_washington',\n",
       " 'in_tipton',\n",
       " 'ny_cayuga',\n",
       " 'ny_sullivan',\n",
       " 'nc_burke',\n",
       " 'ia_emmet',\n",
       " 'va_fluvanna',\n",
       " 'tn_franklin',\n",
       " 'mt_teton',\n",
       " 'tx_cottle',\n",
       " 'md_dorchester',\n",
       " 'va_rockingham',\n",
       " 'wy_teton',\n",
       " 'tn_maury',\n",
       " 'in_morgan',\n",
       " 'nj_morris',\n",
       " 'tx_dawson',\n",
       " 'ks_dickinson',\n",
       " 'va_halifax',\n",
       " 'tx_pecos',\n",
       " 'tn_madison',\n",
       " 'oh_richland',\n",
       " 'tx_walker',\n",
       " 'va_lee',\n",
       " \"md_prince_george's\",\n",
       " 'nd_cass',\n",
       " 'oh_hamilton',\n",
       " 'tn_overton',\n",
       " 'tx_nolan',\n",
       " 'mt_prairie',\n",
       " 'nm_torrance',\n",
       " 'nc_wilkes',\n",
       " 'oh_summit',\n",
       " 'fl_collier',\n",
       " 'in_orange',\n",
       " 'fl_broward',\n",
       " 'oh_morrow',\n",
       " 'co_montrose',\n",
       " 'nc_dare',\n",
       " 'tx_lavaca',\n",
       " 'in_johnson',\n",
       " 'tn_grundy',\n",
       " 'va_amherst',\n",
       " 'md_caroline',\n",
       " 'tx_borden',\n",
       " 'ks_leavenworth',\n",
       " 'nc_swain',\n",
       " 'tx_la_salle',\n",
       " 'ky_metcalfe',\n",
       " 'va_salem_city',\n",
       " 'va_giles',\n",
       " 'wy_crook',\n",
       " 'va_grayson',\n",
       " 'nc_yancey',\n",
       " 'tx_gillespie',\n",
       " 'nd_divide',\n",
       " 'va_harrisonburg_city',\n",
       " 'tn_henry',\n",
       " 'sd_tripp',\n",
       " 'tx_mcmullen',\n",
       " 'md_harford',\n",
       " 'tx_eastland',\n",
       " 'tn_sumner',\n",
       " 'va_lynchburg_city',\n",
       " 'ma_suffolk',\n",
       " 'wi_vernon',\n",
       " 'mt_broadwater',\n",
       " 'va_pulaski',\n",
       " 'ca_merced',\n",
       " 'ar_marion',\n",
       " 'va_rockbridge',\n",
       " 'nj_cumberland',\n",
       " 'ar_sevier',\n",
       " 'tx_taylor',\n",
       " 'md_frederick',\n",
       " 'ks_republic',\n",
       " 'ut_san_juan',\n",
       " 'ks_kearny',\n",
       " 'mt_park',\n",
       " 'mo_barry',\n",
       " 'ia_iowa',\n",
       " 'in_randolph',\n",
       " 'tx_atascosa',\n",
       " 'ar_cleburne',\n",
       " 'va_culpeper',\n",
       " 'va_falls_church_city',\n",
       " 'tx_real',\n",
       " 'ar_chicot',\n",
       " 'ar_carroll',\n",
       " 'in_vermillion',\n",
       " 'wi_vilas',\n",
       " 'mn_hennepin',\n",
       " 'nj_passaic',\n",
       " 'pa_westmoreland',\n",
       " 'tx_sterling',\n",
       " 'ak_fairbanks_north_star_borough',\n",
       " 'mo_bates',\n",
       " 'tx_liberty',\n",
       " 'ia_monona',\n",
       " 'tx_lampasas',\n",
       " 'va_isle_of_wight',\n",
       " 'co_san_miguel',\n",
       " 'ny_genesee',\n",
       " 'va_frederick',\n",
       " 'ia_hardin',\n",
       " 'ia_bremer',\n",
       " 'mn_chisago',\n",
       " 'nj_westchester',\n",
       " 'me_androscoggin',\n",
       " 'in_madison',\n",
       " 'oh_adams',\n",
       " 'nm_harding',\n",
       " 'nc_gates',\n",
       " 'wi_dodge',\n",
       " 'co_clear_creek',\n",
       " 'sc_chester',\n",
       " 'ut_wasatch',\n",
       " 'in_huntington',\n",
       " 'mt_chouteau',\n",
       " 'vt_orange',\n",
       " 'wi_rusk',\n",
       " 'ia_dubuque',\n",
       " 'tx_reeves',\n",
       " 'nc_watauga',\n",
       " 'ia_clayton',\n",
       " 'la_assumption_parish',\n",
       " 'in_brown',\n",
       " 'in_perry',\n",
       " 'tn_tipton',\n",
       " 'az_maricopa',\n",
       " 'nc_bertie',\n",
       " 'ky_barren',\n",
       " 'nc_randolph',\n",
       " 'nd_renville',\n",
       " 'ny_ulster',\n",
       " 'ky_trimble',\n",
       " 'tx_hansford',\n",
       " 'wi_buffalo',\n",
       " 'tx_upton',\n",
       " 'tx_loving',\n",
       " 'la_east_feliciana_parish',\n",
       " 'tx_rockwall',\n",
       " 'oh_carroll',\n",
       " 'tx_moore',\n",
       " 'in_greene',\n",
       " 'wi_columbia',\n",
       " 'az_yavapai',\n",
       " 'ok_mccurtain',\n",
       " 'ks_coffey',\n",
       " 'in_tippecanoe',\n",
       " 'in_white',\n",
       " 'co_hinsdale',\n",
       " 'nc_mitchell',\n",
       " 'nc_clay',\n",
       " 'tx_robertson',\n",
       " 'tx_morris',\n",
       " 'tx_williamson',\n",
       " 'wi_door',\n",
       " 'wi_jefferson',\n",
       " 'mo_howell',\n",
       " 'tn_rhea',\n",
       " 'nd_steele',\n",
       " 'tx_deaf_smith',\n",
       " 'va_franklin_city',\n",
       " 'ok_alfalfa',\n",
       " 'tx_burnet',\n",
       " 'oh_mahoning',\n",
       " 'va_galax_city',\n",
       " 'tx_madison',\n",
       " 'nc_brunswick',\n",
       " 'nm_de_baca',\n",
       " 'in_porter',\n",
       " 'vt_monroe',\n",
       " 'nd_stutsman',\n",
       " 'ar_perry',\n",
       " 'va_albemarle',\n",
       " 'nd_ward',\n",
       " 'va_montgomery',\n",
       " 'tx_hemphill',\n",
       " 'tx_llano',\n",
       " 'tx_sherman',\n",
       " 'nc_forsyth',\n",
       " 'co_douglas',\n",
       " 'ok_woods',\n",
       " 'va_fauquier',\n",
       " 'nm_san_juan',\n",
       " 'nm_los_alamos',\n",
       " 'ut_box_elder',\n",
       " 'ia_butler',\n",
       " 'tn_fayette',\n",
       " 'nc_washington',\n",
       " 'sd_mellette',\n",
       " 'ma_hampshire',\n",
       " 'ny_chenango',\n",
       " 'nj_essex',\n",
       " 'ny_clinton',\n",
       " 'ks_franklin',\n",
       " 'nc_polk',\n",
       " 'ct_windham',\n",
       " 'oh_madison',\n",
       " 'va_fairfax',\n",
       " 'oh_warren',\n",
       " 'ia_wapello',\n",
       " 'az_gila',\n",
       " 'va_prince_william',\n",
       " 'me_waldo',\n",
       " 'ks_logan',\n",
       " 'ks_sedgwick',\n",
       " 'nc_scotland',\n",
       " 'va_bedford',\n",
       " 'nc_northampton',\n",
       " 'ks_marshall',\n",
       " 'ia_plymouth',\n",
       " 'mt_phillips',\n",
       " 'co_broomfield',\n",
       " 'ny_madison',\n",
       " 'mn_dakota',\n",
       " 'nc_chatham',\n",
       " 'mn_le_sueur',\n",
       " 'ia_mitchell',\n",
       " 'va_orange',\n",
       " 'ny_albany',\n",
       " 'tn_bledsoe',\n",
       " 'ok_pushmataha',\n",
       " 'ks_russell',\n",
       " 'nc_rowan',\n",
       " 'ok_nowata',\n",
       " 'co_elbert',\n",
       " 'va_king_william',\n",
       " 'in_daviess',\n",
       " 'pa_berks',\n",
       " 'ks_jackson',\n",
       " 'va_manassas_city',\n",
       " 'vt_orleans',\n",
       " 'nc_davidson',\n",
       " 'ia_woodbury',\n",
       " 'ky_fleming',\n",
       " 'oh_athens',\n",
       " 'ks_scott',\n",
       " 'la_lafourche_parish',\n",
       " 'nc_moore',\n",
       " 'me_franklin',\n",
       " 'oh_auglaize',\n",
       " 'ar_bradley',\n",
       " 'mt_toole',\n",
       " 'va_floyd',\n",
       " 'tx_hunt',\n",
       " 'tn_moore',\n",
       " 'wa_thurston',\n",
       " 'oh_greene',\n",
       " 'wy_albany',\n",
       " 'va_chesterfield',\n",
       " 'tn_marshall',\n",
       " 'mt_dawson',\n",
       " 'tx_kenedy',\n",
       " 'ks_wabaunsee',\n",
       " 'tn_washington',\n",
       " 'az_graham',\n",
       " 'ar_howard',\n",
       " 'ut_weber',\n",
       " 'in_clark',\n",
       " 'vt_addison',\n",
       " 'mt_sheridan',\n",
       " 'in_putnam',\n",
       " 'nd_oliver',\n",
       " 'ia_keokuk',\n",
       " 'co_boulder',\n",
       " 'ar_pike',\n",
       " 'tx_burleson',\n",
       " 'ar_hot_spring',\n",
       " 'nc_harnett',\n",
       " 'ok_texas',\n",
       " 'ar_van_buren',\n",
       " 'mt_hill',\n",
       " 'ks_montgomery',\n",
       " 'ia_clinton',\n",
       " 'tx_montague',\n",
       " 'oh_champaign',\n",
       " 'oh_butler',\n",
       " 'mt_judith_basin',\n",
       " 'tx_armstrong',\n",
       " 'tx_carson',\n",
       " 'tn_greene',\n",
       " 'nc_jackson',\n",
       " 'nc_cumberland',\n",
       " 'nc_wake',\n",
       " 'mt_richland',\n",
       " 'oh_preble',\n",
       " 'tx_brewster',\n",
       " 'tn_fentress',\n",
       " 'mn_isanti',\n",
       " 'tx_terrell',\n",
       " 'nc_orange',\n",
       " 'nd_adams',\n",
       " 'oh_trumbull',\n",
       " 'tx_ward',\n",
       " 'nc_franklin',\n",
       " 'nc_madison',\n",
       " 'va_northampton',\n",
       " 'co_archuleta',\n",
       " 'sd_todd',\n",
       " 'nd_dickey',\n",
       " 'ia_muscatine',\n",
       " 'tx_culberson',\n",
       " 'nd_billings',\n",
       " 'ks_crawford',\n",
       " 'me_lincoln',\n",
       " 'mo_greene',\n",
       " 'co_montezuma',\n",
       " 'mt_pondera',\n",
       " 'va_alexandria_city',\n",
       " 'nc_vance',\n",
       " 'mt_musselshell',\n",
       " 'tn_hamilton',\n",
       " 'me_cumberland',\n",
       " 'tx_parker',\n",
       " 'co_fremont',\n",
       " 'nm_colfax',\n",
       " 'va_goochland',\n",
       " 'tx_houston',\n",
       " 'tx_san_jacinto',\n",
       " 'tx_refugio',\n",
       " 'la_claiborne',\n",
       " 'ks_cheyenne',\n",
       " 'tn_hickman',\n",
       " 'va_botetourt',\n",
       " 'ut_kane',\n",
       " 'nc_tyrrell',\n",
       " 'tx_nacogdoches',\n",
       " 'va_russell',\n",
       " 'wi_sheboygan',\n",
       " 'ct_hartford',\n",
       " 'ar_izard',\n",
       " 'ar_benton',\n",
       " 'mt_deer_lodge',\n",
       " 'mt_lewis_and_clark',\n",
       " 'ks_chase',\n",
       " 'wa_whatcom',\n",
       " 'ia_carroll',\n",
       " 'va_richmond',\n",
       " 'ia_humboldt',\n",
       " 'va_suffolk_city',\n",
       " 'tx_duval',\n",
       " 'va_bland',\n",
       " 'tx_brazoria',\n",
       " 'az_pinal',\n",
       " 'mo_jefferson',\n",
       " 'tx_dewitt',\n",
       " 'nc_wilson',\n",
       " 'oh_lake',\n",
       " 'co_gilpin',\n",
       " 'va_charles_city',\n",
       " 'nm_mora',\n",
       " 'mt_rosebud',\n",
       " 'ar_montgomery',\n",
       " 'me_hancock',\n",
       " 'ks_shawnee',\n",
       " 'oh_sandusky',\n",
       " 'ok_le_flore',\n",
       " 'ar_mississippi',\n",
       " 'ar_phillips',\n",
       " 'oh_allen',\n",
       " 'in_sullivan',\n",
       " 'de_new_castle',\n",
       " 'ia_guthrie',\n",
       " 'nc_bladen',\n",
       " 'nc_greene',\n",
       " 'va_clarke',\n",
       " 'ar_little_river',\n",
       " 'in_clay',\n",
       " 'ut_garfield',\n",
       " 'mt_custer',\n",
       " 'mo_cass',\n",
       " 'nc_alleghany',\n",
       " 'tn_montgomery',\n",
       " 'wi_kenosha',\n",
       " 'tx_upshur',\n",
       " \"md_queen_anne's\",\n",
       " 'nj_sussex',\n",
       " 'tx_coryell',\n",
       " 'ks_rooks',\n",
       " 'wv_clarke',\n",
       " 'ar_ashley',\n",
       " 'mt_daniels',\n",
       " 'nj_monmouth',\n",
       " 'ks_finney',\n",
       " 'va_accomack',\n",
       " 'va_charlotte',\n",
       " 'wi_calumet',\n",
       " 'ks_rice',\n",
       " 'ny_oswego',\n",
       " 'tx_crane',\n",
       " 'tn_henderson',\n",
       " 'tx_smith',\n",
       " 'mt_roosevelt',\n",
       " 'tx_shelby',\n",
       " 'co_otero',\n",
       " 'ny_lewis',\n",
       " 'tx_austin',\n",
       " 'tn_monroe',\n",
       " 'ut_uintah',\n",
       " 'in_grant',\n",
       " 'tx_victoria',\n",
       " 'ok_delaware',\n",
       " 'tx_fannin',\n",
       " 'nj_atlantic',\n",
       " 'ar_nevada',\n",
       " 'oh_noble',\n",
       " 'tx_garza',\n",
       " 'tx_red_river',\n",
       " 'co_lake',\n",
       " 'tx_freestone',\n",
       " 'nc_granville',\n",
       " 'va_buena_vista_city',\n",
       " 'ar_randolph',\n",
       " 'az_mohave',\n",
       " 'ia_harrison',\n",
       " 'tx_bastrop',\n",
       " 'mn_ramsey',\n",
       " 'me_sagadahoc',\n",
       " 'tn_lincoln',\n",
       " 'tx_tyler',\n",
       " 'wi_oconto',\n",
       " 'ut_tooele',\n",
       " 'mn_sherburne',\n",
       " 'va_petersburg_city',\n",
       " 'in_wayne',\n",
       " 'tx_nueces',\n",
       " 'tx_jefferson',\n",
       " 'tx_denton',\n",
       " 'co_logan',\n",
       " 'nd_mercer',\n",
       " 'in_elkhart',\n",
       " 'ny_allegany',\n",
       " 'ia_adams',\n",
       " 'in_franklin',\n",
       " 'me_penobscot',\n",
       " 'pa_blair',\n",
       " 'ny_hamilton',\n",
       " 'ky_edmonson',\n",
       " 'ia_audubon',\n",
       " 'ar_monroe',\n",
       " 'in_starke',\n",
       " 'nc_avery',\n",
       " 'ia_franklin',\n",
       " 'tx_washington',\n",
       " 'ut_duchesne',\n",
       " 'ia_linn',\n",
       " 'vt_caledonia',\n",
       " 'nc_stanly',\n",
       " 'tx_kleberg',\n",
       " 'ia_story',\n",
       " 'tn_sullivan',\n",
       " 'ny_essex',\n",
       " 'tx_san_saba',\n",
       " 'nd_pierce',\n",
       " 'mt_lincoln',\n",
       " 'ks_kingman',\n",
       " 'ks_harvey',\n",
       " 'nc_perquimans',\n",
       " 'in_fountain',\n",
       " 'nc_macon',\n",
       " 'oh_henry',\n",
       " 'tn_clay',\n",
       " 'ma_franklin',\n",
       " 'mt_carbon',\n",
       " 'va_scott',\n",
       " 'in_cass',\n",
       " 'tx_mills',\n",
       " 'va_carroll',\n",
       " 'ks_woodson',\n",
       " 'tx_hamilton',\n",
       " 'in_warren',\n",
       " 'va_charlottesville_city',\n",
       " 'nm_curry',\n",
       " 'oh_montgomery',\n",
       " 'ks_sherman',\n",
       " 'ny_chautauqua',\n",
       " 'oh_fayette',\n",
       " 'wi_jackson',\n",
       " 'nd_foster',\n",
       " 'la_terrebonne_parish',\n",
       " 'nd_mchenry',\n",
       " 'va_wise',\n",
       " 'co_ouray',\n",
       " 'tx_coke',\n",
       " 'co_sedgwick',\n",
       " 'ma_norfolk',\n",
       " 'va_surry',\n",
       " 'va_buckingham',\n",
       " 'ut_carbon',\n",
       " 'ia_van_buren',\n",
       " 'oh_paulding',\n",
       " 'ak_southeast_fairbanks_census_area',\n",
       " 'md_anne_arundel',\n",
       " 'me_washington',\n",
       " 'in_pike',\n",
       " 'nc_yadkin',\n",
       " 'tx_colorado',\n",
       " 'tx_webb',\n",
       " 'mt_meagher',\n",
       " 'nd_logan',\n",
       " 'oh_jay',\n",
       " 'mt_sweet_grass',\n",
       " 'oh_meigs',\n",
       " 'tn_carter',\n",
       " 'mo_jasper',\n",
       " 'wi_adams',\n",
       " 'nc_edgecombe',\n",
       " 'ok_harper',\n",
       " 'va_dinwiddie',\n",
       " 'in_lake',\n",
       " 'in_dearborn',\n",
       " 'mt_silver_bow',\n",
       " 'tx_hopkins',\n",
       " 'ar_jefferson',\n",
       " 'ok_grant',\n",
       " 'ia_lucas',\n",
       " 'vt_franklin',\n",
       " 'in_laporte',\n",
       " 'wi_dane',\n",
       " 'tx_johnson',\n",
       " 'wi_wood',\n",
       " 'ks_wyandotte',\n",
       " 'ia_scott',\n",
       " 'tx_wilbarger',\n",
       " 'ia_montgomery',\n",
       " 'nm_cibola',\n",
       " 'nc_haywood',\n",
       " 'in_miami',\n",
       " 'ok_morton',\n",
       " 'tx_cooke',\n",
       " 'ny_oneida',\n",
       " 'co_larimer',\n",
       " 'nm_mckinley',\n",
       " 'de_sussex',\n",
       " 'oh_van_wert',\n",
       " 'ny_tioga',\n",
       " 'ky_monroe',\n",
       " 'tn_hancock',\n",
       " 'ok_cherokee',\n",
       " 'ia_marshall',\n",
       " 'mt_sanders',\n",
       " 'tx_angelina',\n",
       " 'wi_iowa',\n",
       " 'ar_cross',\n",
       " 'ks_wichita',\n",
       " 'ks_ellis',\n",
       " 'nc_hertford',\n",
       " 'oh_morgan',\n",
       " 'va_nelson',\n",
       " 'ny_kings',\n",
       " 'tx_uvalde',\n",
       " 'ar_hempstead',\n",
       " 'mn_anoka',\n",
       " 'tx_kendall',\n",
       " 'va_southampton',\n",
       " 'oh_miami',\n",
       " 'tx_grimes',\n",
       " 'tx_gaines',\n",
       " 'ia_tama',\n",
       " 'ar_newton',\n",
       " 'ia_calhoun',\n",
       " 'ia_union',\n",
       " 'in_hamilton',\n",
       " 'ny_orleans',\n",
       " 'ar_clay',\n",
       " 'tn_jefferson',\n",
       " 'in_crawford',\n",
       " 'ks_cherokee',\n",
       " 'tn_roane',\n",
       " 'nc_chesapeake_city',\n",
       " 'mt_valley',\n",
       " 'tx_val_verde',\n",
       " 'mt_fallon',\n",
       " 'vt_grand_isle',\n",
       " 'ar_greene',\n",
       " 'ks_phillips',\n",
       " 'co_huerfano',\n",
       " 'ar_sebastian',\n",
       " 'nm_taos',\n",
       " 'ia_warren',\n",
       " 'co_custer',\n",
       " 'wi_eau_claire',\n",
       " 'la_caddo',\n",
       " 'ks_grant',\n",
       " 'ut_utah',\n",
       " 'md_calvert',\n",
       " 'tx_bell',\n",
       " 'ny_columbia',\n",
       " 'mt_wheatland',\n",
       " 'va_king_george',\n",
       " 'ny_wayne',\n",
       " 'az_navajo',\n",
       " 'ky_marion',\n",
       " 'tx_briscoe',\n",
       " 'va_spotsylvania',\n",
       " 'nj_ocean',\n",
       " 'ks_anderson',\n",
       " 'ny_cortland',\n",
       " 'ny_herkimer',\n",
       " 'nc_mecklenburg',\n",
       " 'la_livingston_parish',\n",
       " 'nd_mclean',\n",
       " 'tn_morgan',\n",
       " 'in_ohio',\n",
       " 'oh_harrison',\n",
       " 'az_pima',\n",
       " 'nc_carteret',\n",
       " 'co_denver',\n",
       " 'in_wells',\n",
       " 'az_la_paz',\n",
       " 'tx_fisher',\n",
       " 'ks_gray',\n",
       " 'nm_grant',\n",
       " 'ny_seneca',\n",
       " 'mt_cascade',\n",
       " 'ar_jackson',\n",
       " 'oh_lorain',\n",
       " 'va_stafford',\n",
       " 'va_bath',\n",
       " 'va_lunenburg',\n",
       " 'va_amelia',\n",
       " 'ia_taylor',\n",
       " 'va_henry',\n",
       " 'me_kennebec',\n",
       " 'co_pueblo',\n",
       " 'ny_westchester',\n",
       " 'ks_osage',\n",
       " 'co_chaffee',\n",
       " 'nc_pamlico',\n",
       " 'ar_woodruff',\n",
       " 'va_westmoreland',\n",
       " 'va_tazewell',\n",
       " 'tn_obion',\n",
       " 'mt_mccone',\n",
       " 'il_vermilion',\n",
       " 'mo_st._louis',\n",
       " 'ny_onondaga',\n",
       " 'nd_burke',\n",
       " 'nc_durham',\n",
       " 'tx_hays',\n",
       " 'oh_delaware',\n",
       " 'in_dubois',\n",
       " 'nj_camden',\n",
       " 'wi_st._croix',\n",
       " 'oh_hancock',\n",
       " 'tx_glasscock',\n",
       " 'nj_hunterdon',\n",
       " 'vt_chittenden',\n",
       " 'mt_missoula',\n",
       " 'ma_middlesex',\n",
       " 'nc_montgomery',\n",
       " 'oh_pike',\n",
       " 'ny_bronx',\n",
       " 'ut_davis',\n",
       " 'va_campbell',\n",
       " 'pa_chester',\n",
       " 'ny_montgomery',\n",
       " 'in_parke',\n",
       " 'in_wabash',\n",
       " 'wi_ozaukee',\n",
       " 'mt_granite',\n",
       " 'mt_jefferson',\n",
       " 'mo_taney',\n",
       " 'nj_middlesex',\n",
       " 'mo_ripley',\n",
       " 'nm_santa_fe',\n",
       " 'tn_lake',\n",
       " 'ks_linn',\n",
       " 'ar_logan',\n",
       " 'tx_bowie',\n",
       " 'ks_stafford',\n",
       " 'tx_floyd',\n",
       " 'tn_van_buren',\n",
       " 'nm_dona_ana',\n",
       " 'nm_bernalillo',\n",
       " 'oh_seneca',\n",
       " 'nc_lincoln',\n",
       " 'ar_franklin',\n",
       " 'wv_frederick',\n",
       " 'tx_karnes',\n",
       " 'tx_newton',\n",
       " 'ut_beaver',\n",
       " 'nj_warren',\n",
       " 'in_fayette',\n",
       " 'nm_lincoln',\n",
       " 'ar_sharp',\n",
       " 'tn_mcminn',\n",
       " 'ar_drew',\n",
       " 'tn_meigs',\n",
       " 'in_adams',\n",
       " 'tx_wise',\n",
       " 'nc_chowan',\n",
       " 'ut_summit',\n",
       " 'mo_platte',\n",
       " 'nm_guadalupe',\n",
       " 'mo_oregon',\n",
       " 'in_henry',\n",
       " 'tn_williamson',\n",
       " 'ks_miami',\n",
       " 'wi_outagamie',\n",
       " 'oh_defiance',\n",
       " 'nc_gaston',\n",
       " 'va_essex',\n",
       " 'vt_windsor',\n",
       " 'oh_holmes',\n",
       " 'ny_putnam',\n",
       " 'ia_poweshiek',\n",
       " 'tx_randall',\n",
       " 'va_prince_george',\n",
       " 'ny_jefferson',\n",
       " 'ar_madison',\n",
       " 'wi_crawford',\n",
       " 'tx_jones',\n",
       " 'ia_cass',\n",
       " 'ks_gove',\n",
       " 'ia_buena_vista',\n",
       " 'mo_ozark',\n",
       " 'oh_fulton',\n",
       " 'va_northumberland',\n",
       " 'ks_pawnee',\n",
       " 'wa_kittitas',\n",
       " 'tx_gray',\n",
       " 'co_garfield',\n",
       " 'ar_grant',\n",
       " 'wa_douglas',\n",
       " 'nc_alexander',\n",
       " 'nj_mercer',\n",
       " 'ks_osborne',\n",
       " 'mn_washington',\n",
       " 'ks_morton',\n",
       " 'ks_lincoln',\n",
       " 'ia_osceola',\n",
       " 'ar_columbia',\n",
       " 'va_mathews',\n",
       " 'wi_milwaukee',\n",
       " 'oh_putnam',\n",
       " 'nd_bottineau',\n",
       " 'ma_worcester',\n",
       " 'ut_morgan',\n",
       " 'mo_jackson',\n",
       " 'tx_kinney',\n",
       " 'ar_yell',\n",
       " 'ia_kossuth',\n",
       " 'in_bartholomew',\n",
       " 'tx_marion',\n",
       " 'tn_pickett',\n",
       " 'va_louisa',\n",
       " 'ks_norton',\n",
       " 'nc_guilford',\n",
       " 'va_waynesboro_city',\n",
       " 'in_martin',\n",
       " 'nc_robeson',\n",
       " 'mo_butler',\n",
       " 'tn_marion',\n",
       " 'pa_montgomery',\n",
       " 'tx_kent',\n",
       " 'nd_nelson',\n",
       " 'tn_lawrence',\n",
       " 'co_la_plata',\n",
       " 'ny_fulton',\n",
       " 'tx_franklin',\n",
       " 'ky_green',\n",
       " 'va_roanoke',\n",
       " 'ri_providence',\n",
       " 'tx_hardeman',\n",
       " 'ks_jefferson',\n",
       " 'la_iberville_parish',\n",
       " 'ar_faulkner',\n",
       " 'nc_wayne',\n",
       " 'wi_florence',\n",
       " 'ny_wyoming',\n",
       " 'oh_erie',\n",
       " 'tx_waller',\n",
       " 'pa_chemung',\n",
       " 'ny_orange',\n",
       " 'oh_pickaway',\n",
       " 'ia_davis',\n",
       " 'ia_clay',\n",
       " 'ks_mcpherson',\n",
       " 'tn_hardeman',\n",
       " 'tn_unicoi',\n",
       " 'in_boone',\n",
       " 'in_marion',\n",
       " 'tn_campbell',\n",
       " 'mt_powell',\n",
       " 'mt_liberty',\n",
       " 'oh_medina',\n",
       " 'wi_ashland',\n",
       " 'mn_scott',\n",
       " 'tx_wharton',\n",
       " 'ia_winnebago',\n",
       " 'tn_polk',\n",
       " 'oh_jefferson',\n",
       " 'oh_washington',\n",
       " 'va_emporia_city',\n",
       " 'nd_slope',\n",
       " 'tx_erath',\n",
       " 'ar_cleveland',\n",
       " 'wy_laramie',\n",
       " 'nd_ransom',\n",
       " 'in_jefferson',\n",
       " 'ky_boyd',\n",
       " 'tx_oldham',\n",
       " 'tx_orange',\n",
       " 'nc_halifax',\n",
       " 'ma_dukes',\n",
       " 'in_whitley',\n",
       " 'nc_cherokee',\n",
       " 'ks_labette',\n",
       " 'ri_bristol',\n",
       " 'in_pulaski',\n",
       " 'ks_rush',\n",
       " 'ks_lane',\n",
       " 'va_norton_city',\n",
       " 'ar_baxter',\n",
       " 'tn_smith',\n",
       " 'va_poquoson_city',\n",
       " 'tx_chambers',\n",
       " 'ks_thomas',\n",
       " 'tx_scurry',\n",
       " 'co_routt',\n",
       " 'tx_calhoun',\n",
       " 'tn_loudon',\n",
       " 'vt_windham',\n",
       " 'ny_ontario',\n",
       " 'oh_hardin',\n",
       " 'ks_pottawatomie',\n",
       " 'nm_sierra',\n",
       " 'ny_chemung',\n",
       " 'nm_catron',\n",
       " 'oh_ross',\n",
       " 'nm_quay',\n",
       " 'wi_brown',\n",
       " 'ny_richmond',\n",
       " 'me_somerset',\n",
       " 'tx_delta',\n",
       " 'nj_bergen',\n",
       " 'tx_navarro',\n",
       " 'tx_harris',\n",
       " 'pa_fayette',\n",
       " 'in_knox',\n",
       " 'ia_greene',\n",
       " 'ar_calhoun',\n",
       " 'ct_litchfield',\n",
       " 'ia_winneshiek',\n",
       " 'nm_otero',\n",
       " 'ia_johnson',\n",
       " 'oh_wayne',\n",
       " 'nc_currituck',\n",
       " 'il_edgar',\n",
       " 'ny_yates',\n",
       " 'tx_comal',\n",
       " 'mt_petroleum',\n",
       " 'nc_alamance',\n",
       " 'wi_marquette',\n",
       " 'tx_archer',\n",
       " 'ks_washington',\n",
       " 'tx_palo_pinto',\n",
       " 'tx_wichita',\n",
       " 'nj_salem',\n",
       " 'tx_callahan',\n",
       " 'tx_roberts',\n",
       " 'in_hendricks',\n",
       " 'tx_van_zandt',\n",
       " 'wi_waukesha',\n",
       " 'va_alleghany',\n",
       " 'va_king_and_queen',\n",
       " 'ut_millard',\n",
       " 'tx_collingsworth',\n",
       " 'oh_belmont',\n",
       " 'ok_love',\n",
       " 'co_adams',\n",
       " 'nc_davie',\n",
       " 'ar_dallas',\n",
       " 'ar_garland',\n",
       " 'tx_baylor',\n",
       " 'wi_polk',\n",
       " 'oh_muskingum',\n",
       " 'va_norfolk_city',\n",
       " 'nc_henderson',\n",
       " 'oh_brown',\n",
       " 'wy_weston',\n",
       " 'md_cecil',\n",
       " 'ky_carlisle',\n",
       " 'ct_tolland',\n",
       " 'ny_monroe',\n",
       " 'tx_lubbock',\n",
       " 'in_shelby',\n",
       " 'nj_somerset',\n",
       " 'ky_larue',\n",
       " 'mt_madison',\n",
       " 'ks_hamilton',\n",
       " 'co_bent',\n",
       " 'ny_queens',\n",
       " 'va_winchester_city',\n",
       " 'tx_clay',\n",
       " 'oh_monroe',\n",
       " 'in_delaware',\n",
       " 'tx_mclennan',\n",
       " 'ok_marshall',\n",
       " 'va_colonial_heights_city',\n",
       " 'ar_fulton',\n",
       " 'va_new_kent',\n",
       " 'nd_kidder',\n",
       " 'nc_pitt',\n",
       " 'nc_rockingham',\n",
       " 'tn_white',\n",
       " 'va_mecklenburg',\n",
       " 'nj_burlington',\n",
       " 'tn_union',\n",
       " 'ks_trego',\n",
       " 'oh_clinton',\n",
       " 'ks_mitchell',\n",
       " 'va_dickenson',\n",
       " 'va_chesapeake_city',\n",
       " 'tx_jack',\n",
       " 'ma_columbia',\n",
       " 'ks_greenwood',\n",
       " 'ma_plymouth',\n",
       " 'ia_clarke',\n",
       " 'oh_ottawa',\n",
       " 'az_apache',\n",
       " 'nd_golden_valley',\n",
       " 'tx_leon',\n",
       " 'tn_cumberland',\n",
       " 'vt_lamoille',\n",
       " 'nd_grant',\n",
       " 'tn_bristol_city',\n",
       " 'in_switzerland',\n",
       " 'va_hopewell_city',\n",
       " 'ia_pottawattamie',\n",
       " 'va_james_city',\n",
       " 'wi_richland',\n",
       " 'tx_midland',\n",
       " 'tx_fayette',\n",
       " 'wi_shawano',\n",
       " 'oh_jackson',\n",
       " 'va_middlesex',\n",
       " 'ks_cloud',\n",
       " 'wi_chippewa',\n",
       " 'nc_duplin',\n",
       " 'ia_henry',\n",
       " 'tx_dallam',\n",
       " 'in_lagrange',\n",
       " 'tx_camp',\n",
       " 'co_las_animas',\n",
       " 'va_arlington',\n",
       " 'va_virginia_beach_city',\n",
       " 'ar_ouachita',\n",
       " 'ny_erie',\n",
       " 'ia_jones',\n",
       " 'ok_mayes',\n",
       " 'ia_jasper',\n",
       " 'ma_berkshire',\n",
       " 'nd_cavalier',\n",
       " 'nj_hudson',\n",
       " 'oh_cuyahoga',\n",
       " 'ar_craighead',\n",
       " 'mo_page',\n",
       " 'tx_galveston',\n",
       " 'nd_bowman',\n",
       " 'co_dolores',\n",
       " 'ia_mills',\n",
       " 'ar_lonoke',\n",
       " 'va_fredericksburg_city',\n",
       " 'wi_la_crosse',\n",
       " 'tx_wilson',\n",
       " 'ct_fairfield',\n",
       " 'ut_sevier',\n",
       " 'in_marshall',\n",
       " 'va_wythe',\n",
       " 'tx_hartley',\n",
       " 'tx_cameron',\n",
       " 'ok_rogers',\n",
       " 'tx_jasper',\n",
       " 'ks_butler',\n",
       " 'ar_crawford',\n",
       " 'tx_cass',\n",
       " 'nc_sampson',\n",
       " 'ia_madison',\n",
       " 'il_crawford',\n",
       " 'mt_flathead',\n",
       " 'in_benton',\n",
       " 'la_east_baton_rouge_parish',\n",
       " 'oh_knox',\n",
       " 'co_mesa',\n",
       " 'oh_crawford',\n",
       " 'oh_logan',\n",
       " 'tx_panola',\n",
       " 'tn_crockett',\n",
       " 'tx_cherokee',\n",
       " 'ks_riley',\n",
       " 'nc_nash',\n",
       " 'va_augusta',\n",
       " 'mt_ravalli',\n",
       " ...]"
      ]
     },
     "execution_count": 2,
     "metadata": {},
     "output_type": "execute_result"
    }
   ],
   "source": [
    "# with open('../data/state_county.json','r') as f:\n",
    "#     ids = json.load(f)\n",
    "# ids"
   ]
  },
  {
   "cell_type": "code",
   "execution_count": 3,
   "metadata": {},
   "outputs": [
    {
     "name": "stdout",
     "output_type": "stream",
     "text": [
      "True\n"
     ]
    }
   ],
   "source": [
    "with open('../data/state_county.json','w') as f:\n",
    "    json.dump(sorted(list(ids)), f)\n",
    "\n",
    "print(os.path.isfile('../data/state_county.json'))"
   ]
  },
  {
   "cell_type": "markdown",
   "metadata": {},
   "source": [
    "# Sample verify address"
   ]
  },
  {
   "cell_type": "code",
   "execution_count": 17,
   "metadata": {},
   "outputs": [],
   "source": [
    "# url = 'https://geocoding.geo.census.gov/geocoder/locations/addressbatch'\n",
    "# s_buf = io.StringIO()\n",
    "# # saving a data frame to a buffer (same as with a regular file):\n",
    "# # s = '\\n'.join(list(df['Address']))\n",
    "# # print(s)\n",
    "# s_buf = io.StringIO()\n",
    "# # saving a data frame to a buffer (same as with a regular file):\n",
    "# df['Address'].to_csv(s_buf, index=False)\n",
    "# df['Address'].to_csv('../data/temp_addr.csv', index=False)\n",
    "# print(df['Address'])"
   ]
  },
  {
   "cell_type": "code",
   "execution_count": 18,
   "metadata": {},
   "outputs": [],
   "source": [
    "# test_address = df['address'].sample(1).values[0]\n",
    "# print(test_address)\n",
    "# r = requests.get('https://geocoding.geo.census.gov/geocoder/locations/onelineaddress?address=%s&benchmark=2020&format=json' % test_address).json()\n",
    "# print(r)  \n",
    "# print(len(r['result']['addressMatches']) > 0)"
   ]
  },
  {
   "cell_type": "code",
   "execution_count": 19,
   "metadata": {},
   "outputs": [],
   "source": [
    "# # https://geocoding.geo.census.gov/geocoder/Geocoding_Services_API.pdf\n",
    "# # curl --form addressFile=@localfile.csv --form benchmark=2020 https://geocoding.geo.census.gov/geocoder/locations/addressbatch --output geocoderesult.csv\n",
    "# # https://curlconverter.com/\n",
    "\n",
    "# url = 'https://geocoding.geo.census.gov/geocoder/locations/addressbatch'\n",
    "# files = {\n",
    "#     'addressFile': open('../data/temp_addr.csv', 'r'),\n",
    "#     'benchmark': (None, '2020'),\n",
    "# }\n",
    "\n",
    "# response = requests.post('https://geocoding.geo.census.gov/geocoder/locations/addressbatch', files=files)\n",
    "# print(response.content)\n",
    "# print(response)"
   ]
  },
  {
   "cell_type": "code",
   "execution_count": 20,
   "metadata": {},
   "outputs": [],
   "source": [
    "# len(df['State'].unique()) # check number of different states"
   ]
  }
 ],
 "metadata": {
  "kernelspec": {
   "display_name": "Python 3",
   "language": "python",
   "name": "python3"
  },
  "language_info": {
   "codemirror_mode": {
    "name": "ipython",
    "version": 3
   },
   "file_extension": ".py",
   "mimetype": "text/x-python",
   "name": "python",
   "nbconvert_exporter": "python",
   "pygments_lexer": "ipython3",
   "version": "3.8.8"
  }
 },
 "nbformat": 4,
 "nbformat_minor": 5
}
